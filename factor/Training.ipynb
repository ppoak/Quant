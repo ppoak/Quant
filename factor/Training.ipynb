{
 "cells": [
  {
   "cell_type": "markdown",
   "metadata": {},
   "source": [
    "# Training Process"
   ]
  },
  {
   "cell_type": "code",
   "execution_count": null,
   "metadata": {},
   "outputs": [],
   "source": [
    "import numpy as np\n",
    "import pandas as pd\n",
    "from libs import (\n",
    "    RollingTrain, \n",
    "    DNNModel, \n",
    "    LGBModel, \n",
    "    TabNetModel, \n",
    "    DoubleEnsembleModel,\n",
    "    FusionModel,\n",
    "    LinearModel,\n",
    ")"
   ]
  },
  {
   "cell_type": "markdown",
   "metadata": {},
   "source": [
    "## Data Preparation"
   ]
  },
  {
   "cell_type": "code",
   "execution_count": null,
   "metadata": {},
   "outputs": [],
   "source": [
    "ret = pd.read_parquet('../data/intermediate/forward_return/1d_open_open.parquet')\n",
    "dataset = pd.read_parquet('../data/intermediate/feature_info/normalized_dataset.parquet')\n",
    "pool = pd.read_parquet('../data/stock_pool/stock_liquid_updown.parquet')\n",
    "pool = pool.set_index(['date', 'stock_code']).index.intersection(dataset.index)\n",
    "dataset = dataset.loc[pool]\n",
    "train = dataset.loc[\"2018-01-01\":\"2018-06-30\"]\n",
    "test = dataset.loc[\"2018-07-01\":\"2018-07-31\"]"
   ]
  },
  {
   "cell_type": "markdown",
   "metadata": {},
   "source": [
    "## LGB Model"
   ]
  },
  {
   "cell_type": "code",
   "execution_count": null,
   "metadata": {},
   "outputs": [],
   "source": [
    "lgbm = LGBModel(ret, ret_stop=100, top=0.1)"
   ]
  },
  {
   "cell_type": "code",
   "execution_count": null,
   "metadata": {},
   "outputs": [],
   "source": [
    "# BENCHMARK: time: 40s, top_ret: 10.67%\n",
    "lgbm.fit(train, test)\n",
    "pd.Series(lgbm.evals_result['valid']['top_ret']).plot();"
   ]
  },
  {
   "cell_type": "markdown",
   "metadata": {},
   "source": [
    "## DNN Model"
   ]
  },
  {
   "cell_type": "code",
   "execution_count": null,
   "metadata": {},
   "outputs": [],
   "source": [
    "dnn = DNNModel(ret, ret_stop=10)"
   ]
  },
  {
   "cell_type": "code",
   "execution_count": null,
   "metadata": {},
   "outputs": [],
   "source": [
    "# BENCHMARK: time: 4min20s, top_ret: 4.08%\n",
    "dnn.fit(train, test)\n",
    "pd.Series(dnn.evals_result['valid']['top_ret']).plot();"
   ]
  },
  {
   "cell_type": "markdown",
   "metadata": {},
   "source": [
    "## TabNet Model"
   ]
  },
  {
   "cell_type": "code",
   "execution_count": null,
   "metadata": {},
   "outputs": [],
   "source": [
    "tabnet = TabNetModel(ret, ret_stop=5)"
   ]
  },
  {
   "cell_type": "code",
   "execution_count": null,
   "metadata": {},
   "outputs": [],
   "source": [
    "# BENCHMARK: time: 15min-17min, top_ret: 5.36%\n",
    "tabnet.fit(train, test)\n",
    "pd.Series(tabnet.evals_result['valid']['top_ret']).plot();"
   ]
  },
  {
   "cell_type": "markdown",
   "metadata": {},
   "source": [
    "## Double Ensemble Model"
   ]
  },
  {
   "cell_type": "code",
   "execution_count": null,
   "metadata": {},
   "outputs": [],
   "source": [
    "doubens = DoubleEnsembleModel(ret, ret_stop=50, stop_models=3, enable_fs=False, enable_sr=True, n_estimators=100)"
   ]
  },
  {
   "cell_type": "code",
   "execution_count": null,
   "metadata": {},
   "outputs": [],
   "source": [
    "# BENCHMARK: time: 29min, top_ret: 11.33%\n",
    "doubens.fit(train, test)\n",
    "pd.Series(doubens.evals_result['valid']['top_ret']).plot();"
   ]
  },
  {
   "cell_type": "markdown",
   "metadata": {},
   "source": [
    "## Fusion Model"
   ]
  },
  {
   "cell_type": "code",
   "execution_count": null,
   "metadata": {},
   "outputs": [],
   "source": [
    "fusion = FusionModel(\n",
    "    ret, \n",
    "    models=[LGBModel, DNNModel], \n",
    "    model_kwargs=[{\"ret_stop\": 100, }, {\"ret_stop\": 10}],\n",
    "    fusion=LinearModel(ret, in_feature=2, out_feature=1)\n",
    ")"
   ]
  },
  {
   "cell_type": "code",
   "execution_count": null,
   "metadata": {},
   "outputs": [],
   "source": [
    "# BENCHMARK: time: 6min53s, top_ret: 10.37%\n",
    "fusion.fit(train, test)"
   ]
  },
  {
   "cell_type": "markdown",
   "metadata": {},
   "source": [
    "## Rolling Training"
   ]
  },
  {
   "cell_type": "code",
   "execution_count": null,
   "metadata": {},
   "outputs": [],
   "source": [
    "roller = RollingTrain(\n",
    "    min_days=120, \n",
    "    max_days=140, \n",
    "    pred_days=10, \n",
    "    learn_days=200, \n",
    "    exp_path='../data/intermediate/results/', \n",
    "    exp_name='fusion',\n",
    ")\n",
    "roller.rolling(model=fusion, dataset=dataset)"
   ]
  },
  {
   "cell_type": "code",
   "execution_count": null,
   "metadata": {},
   "outputs": [],
   "source": []
  }
 ],
 "metadata": {
  "kernelspec": {
   "display_name": "Python 3.9.12 ('base')",
   "language": "python",
   "name": "python3"
  },
  "language_info": {
   "codemirror_mode": {
    "name": "ipython",
    "version": 3
   },
   "file_extension": ".py",
   "mimetype": "text/x-python",
   "name": "python",
   "nbconvert_exporter": "python",
   "pygments_lexer": "ipython3",
   "version": "3.9.12"
  },
  "orig_nbformat": 4,
  "vscode": {
   "interpreter": {
    "hash": "e513617bb56fda1eeb32c258a91a1e94f0525c63115ee8d45570384db0a5f516"
   }
  }
 },
 "nbformat": 4,
 "nbformat_minor": 2
}
