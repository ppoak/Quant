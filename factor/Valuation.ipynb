{
 "cells": [
  {
   "cell_type": "markdown",
   "metadata": {},
   "source": [
    "# Valuation for Qlib Training"
   ]
  },
  {
   "cell_type": "code",
   "execution_count": null,
   "metadata": {},
   "outputs": [],
   "source": [
    "import os\n",
    "import numpy as np\n",
    "import pandas as pd\n",
    "from pathlib import Path\n",
    "from libs import compute_ic, rebalance"
   ]
  },
  {
   "cell_type": "markdown",
   "metadata": {},
   "source": [
    "## Load Results\n",
    "\n",
    "We first read all the results that qlib training genereted"
   ]
  },
  {
   "cell_type": "code",
   "execution_count": null,
   "metadata": {},
   "outputs": [],
   "source": [
    "exp_name = 'dens/oos'\n",
    "\n",
    "# read result\n",
    "path = Path(f'../data/intermediate/results/{exp_name}')\n",
    "pred = pd.read_parquet(path)\n",
    "pred = pred.loc[~pred.index.duplicated(keep='last')]\n",
    "\n",
    "# read return data and benchmark data\n",
    "ret = pd.read_parquet('../data/intermediate/forward_return/1d_open_open.parquet')\n",
    "benchmark = pd.read_parquet('../data/index/zz500.parquet', columns=['ret'])\n",
    "benchmark = benchmark.loc[pred.index.levels[0]]\n",
    "\n",
    "# construct pred_label variable\n",
    "pred_label = pd.concat([pred, ret], axis=1, join='inner')"
   ]
  },
  {
   "cell_type": "markdown",
   "metadata": {},
   "source": [
    "## Rebalance by 1 Day"
   ]
  },
  {
   "cell_type": "code",
   "execution_count": null,
   "metadata": {},
   "outputs": [],
   "source": [
    "result = rebalance(pred_label, benchmark=benchmark, N=10, commission_ratio=0.002)"
   ]
  },
  {
   "cell_type": "markdown",
   "metadata": {},
   "source": [
    "### Layering Result"
   ]
  },
  {
   "cell_type": "code",
   "execution_count": null,
   "metadata": {},
   "outputs": [],
   "source": [
    "(result['profit'] + 1).cumprod().plot(title='Cumulative Return', figsize=(12, 8));"
   ]
  },
  {
   "cell_type": "code",
   "execution_count": null,
   "metadata": {},
   "outputs": [],
   "source": [
    "(result['exprofit'] + 1).cumprod().plot(title='Cumulative Execess Return', figsize=(12, 8));"
   ]
  },
  {
   "cell_type": "code",
   "execution_count": null,
   "metadata": {},
   "outputs": [],
   "source": [
    "annual_ret = (np.power((\n",
    "        result['profit'].iloc[:, -2] + 1).cumprod().iloc[-1], 252 / len(result['profit']\n",
    "    )) - 1) * 100\n",
    "annual_exret = (np.power((\n",
    "        result['exprofit'].iloc[:, -1] + 1).cumprod().iloc[-1], 252 / len(result['profit']\n",
    "    )) - 1) * 100\n",
    "print(f\"Top Layer Average Annual Return: {annual_ret:.2f}%\")\n",
    "print(f\"Top Layer Average Annual Execess Return: {annual_exret:.2f}%\")"
   ]
  },
  {
   "cell_type": "markdown",
   "metadata": {},
   "source": [
    "### Draw Down"
   ]
  },
  {
   "cell_type": "code",
   "execution_count": null,
   "metadata": {},
   "outputs": [],
   "source": [
    "result['mmd'].plot(title='Profit Draw Down', figsize=(12, 8));"
   ]
  },
  {
   "cell_type": "code",
   "execution_count": null,
   "metadata": {},
   "outputs": [],
   "source": [
    "result['exmmd'].plot(title='Excess Profit Draw Down', figsize=(12, 8));"
   ]
  },
  {
   "cell_type": "code",
   "execution_count": null,
   "metadata": {},
   "outputs": [],
   "source": [
    "mmd = result['mmd'].iloc[:, -2].min() * 100\n",
    "exmmd = result['exmmd'].iloc[:, -1].min() * 100\n",
    "print(f\"Top Layer Max Draw Down: {mmd:.2f}%\")\n",
    "print(f\"Top Layer Excess Max Draw Down: {exmmd:.2f}%\")"
   ]
  },
  {
   "cell_type": "markdown",
   "metadata": {},
   "source": [
    "## Turnover"
   ]
  },
  {
   "cell_type": "code",
   "execution_count": null,
   "metadata": {},
   "outputs": [],
   "source": [
    "result['turnover'].plot(title='Turnover Rate', figsize=(12, 8));"
   ]
  },
  {
   "cell_type": "markdown",
   "metadata": {},
   "source": [
    "## IC"
   ]
  },
  {
   "cell_type": "code",
   "execution_count": null,
   "metadata": {},
   "outputs": [],
   "source": [
    "ic = compute_ic(pred_label)['ic']\n",
    "ic.rolling(20).mean().plot(title='IC Rolling 20-day Mean', figsize=(12, 8));"
   ]
  }
 ],
 "metadata": {
  "kernelspec": {
   "display_name": "Python 3.9.12 ('base')",
   "language": "python",
   "name": "python3"
  },
  "language_info": {
   "codemirror_mode": {
    "name": "ipython",
    "version": 3
   },
   "file_extension": ".py",
   "mimetype": "text/x-python",
   "name": "python",
   "nbconvert_exporter": "python",
   "pygments_lexer": "ipython3",
   "version": "3.9.12"
  },
  "orig_nbformat": 4,
  "vscode": {
   "interpreter": {
    "hash": "e513617bb56fda1eeb32c258a91a1e94f0525c63115ee8d45570384db0a5f516"
   }
  }
 },
 "nbformat": 4,
 "nbformat_minor": 2
}
