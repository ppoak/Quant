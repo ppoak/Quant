{
 "cells": [
  {
   "cell_type": "markdown",
   "metadata": {},
   "source": [
    "# Trading Insights"
   ]
  },
  {
   "cell_type": "code",
   "execution_count": null,
   "metadata": {},
   "outputs": [],
   "source": [
    "import datetime\n",
    "import matplotlib\n",
    "import numpy as np\n",
    "import pandas as pd\n",
    "import backtrader as bt\n",
    "import matplotlib.pyplot as plt\n",
    "from tqdm import tqdm\n",
    "# these two lines are necessary in vscode jupyter editor\n",
    "plt.plot()\n",
    "plt.gcf().set_size_inches((0.1, 0.1))"
   ]
  },
  {
   "cell_type": "markdown",
   "metadata": {},
   "source": [
    "## Indicator Definition"
   ]
  },
  {
   "cell_type": "code",
   "execution_count": null,
   "metadata": {},
   "outputs": [],
   "source": [
    "class GridIndicator(bt.Indicator):\n",
    "    params = (('period', 26),)\n",
    "    lines = tuple([f'grid{i}' for i in range(9)] + ['level'])\n",
    "    plotinfo = dict(subplot=False)\n",
    "    \n",
    "    def __init__(self) -> None:\n",
    "        ma = bt.indicators.SmoothedMovingAverage(period=self.p.period)\n",
    "        std = bt.indicators.StandardDeviation(period=self.p.period)\n",
    "        step =  [-2.5, -2, -1.3, -1, 0, 1, 1.3, 2, 2.5]\n",
    "        grid = [ma + s * std for s in step]\n",
    "        for i in range(9):\n",
    "            exec(f'self.lines.grid{i} = grid[{i}]')\n",
    "        self.lines.level = bt.Sum(*[self.data.close >= grid[i] for i in range(9)])"
   ]
  },
  {
   "cell_type": "markdown",
   "metadata": {},
   "source": [
    "## Portfolio Strategies Definition"
   ]
  },
  {
   "cell_type": "markdown",
   "metadata": {},
   "source": [
    "### Simple Moving Average Strategy\n",
    "\n",
    "When SMA5 cross up the SMA10 line, buy; when SMA5 cross down the SMA10 line, sell."
   ]
  },
  {
   "cell_type": "code",
   "execution_count": null,
   "metadata": {},
   "outputs": [],
   "source": [
    "class MAStrategy(bt.Strategy):\n",
    "\n",
    "    def __init__(self) -> None:\n",
    "        self.ma5 = [bt.indicators.SmoothedMovingAverage(\n",
    "            self.datas[i].close, period=5) for i in range(len(self.datas))]\n",
    "        self.ma10 = [bt.indicators.SmoothedMovingAverage(\n",
    "            self.datas[i].close, period=10) for i in range(len(self.datas))]\n",
    "    \n",
    "    def next(self):\n",
    "        for data in self.datas:\n",
    "            if self.ma5[0] > self.ma10[0] and self.ma5[-1] < self.ma10[-1]:\n",
    "                print('buy')\n",
    "                self.order_target_percent(data, target=0.95 / len(self.datas))\n",
    "            elif self.ma5[0] <= self.ma10[0] and self.ma5[-1] > self.ma10[-1]\\\n",
    "                and self.getposition(data).size != 0:\n",
    "                print('sell')\n",
    "                self.order_target_percent(data, target=0)"
   ]
  },
  {
   "cell_type": "markdown",
   "metadata": {},
   "source": [
    "### Grid Strategies"
   ]
  },
  {
   "cell_type": "code",
   "execution_count": null,
   "metadata": {},
   "outputs": [],
   "source": [
    "class GridStrategy(bt.Strategy):\n",
    "    params = (('remain', 0.03), ('period', 26))\n",
    "    \n",
    "    def __init__(self) -> None:\n",
    "        self.grids = dict(zip(\n",
    "            self.getdatanames(),\n",
    "            [GridIndicator(self.getdatabyname(name), period=self.p.period) for name in self.getdatanames()],\n",
    "            ))\n",
    "        self.order = None\n",
    "\n",
    "    def log(self, text: str, datetime: datetime.datetime = None, hint: str = 'INFO'):\n",
    "        datetime = datetime or self.data.datetime.date(0)\n",
    "        print(f'[{hint}] {datetime}: {text}')\n",
    "\n",
    "    def notify_order(self, order: bt.Order):\n",
    "        if order.status in [order.Submitted, order.Accepted, order.Created]:\n",
    "            return\n",
    "\n",
    "        elif order.status in [order.Completed]:\n",
    "            self.log(f'Trade <{order.executed.size}> <{order.info.get(\"name\", \"data\")}> at <{order.executed.price:.2f}>')\n",
    "            self.bar_executed = len(self)\n",
    "\n",
    "        elif order.status in [order.Canceled, order.Margin, order.Rejected, order.Expired]:\n",
    "            self.log('Order canceled, margin, rejected or expired', hint='WARN')\n",
    "\n",
    "        self.order = None\n",
    "        \n",
    "    def next(self):\n",
    "        for name, data in zip(self.getdatanames(), self.datas):\n",
    "            if self.grids[name].level[0] > self.grids[name].level[-1] and self.grids[name].level[0] != 9.0 and self.getposition(data).size:\n",
    "                if self.order is not None:\n",
    "                    self.cancel(self.order)\n",
    "                    self.order = None\n",
    "                self.order = self.order_target_percent(data, target=(1 - self.p.remain) / 10 * self.grids[name].level[0] / len(self.datas),\n",
    "                    exectype=bt.Order.Limit, price=eval(f'self.grids[\"{name}\"].grid{int(self.grids[name].level[0])}'), name=name)\n",
    "            elif self.grids[name].level[0] < self.grids[name].level[-1] and self.grids[name].level[0] != 0.0:\n",
    "                if self.order is not None:\n",
    "                    self.cancel(self.order)\n",
    "                    self.order = None\n",
    "                self.order = self.order_target_percent(data, target=(1 - self.p.remain) / 10 * self.grids[name].level[0] / len(self.datas),\n",
    "                    exectype=bt.Order.Limit, price=eval(f'self.grids[\"{name}\"].grid{int(self.grids[name].level[0] - 1)}'), name=name)\n",
    "            # 1. judge which grid the close is in\n",
    "            # 2. compare with last grid\n",
    "            # 3. compare the current and the last 2 grids\n",
    "            # 4. decide the position\n",
    "            pass"
   ]
  },
  {
   "cell_type": "markdown",
   "metadata": {},
   "source": [
    "## Single Stock Strategies Definition"
   ]
  },
  {
   "cell_type": "markdown",
   "metadata": {},
   "source": [
    "### Grid Strategy in Single Stock"
   ]
  },
  {
   "cell_type": "code",
   "execution_count": null,
   "metadata": {},
   "outputs": [],
   "source": [
    "class GridStrategy(bt.Strategy):\n",
    "    params = (('remain', 0.03), ('period', 26))\n",
    "    \n",
    "    def __init__(self) -> None:\n",
    "        self.grids = GridIndicator(period=self.p.period)\n",
    "        self.order = None\n",
    "\n",
    "    def log(self, text: str, datetime: datetime.datetime = None, hint: str = 'INFO'):\n",
    "        datetime = datetime or self.data.datetime.date(0)\n",
    "        # print(f'[{hint}] {datetime}: {text}')\n",
    "\n",
    "    def notify_order(self, order: bt.Order):\n",
    "        if order.status in [order.Submitted, order.Accepted, order.Created]:\n",
    "            return\n",
    "\n",
    "        elif order.status in [order.Completed]:\n",
    "            self.log(f'Trade <{order.executed.size}> <{order.info.get(\"name\", \"data\")}> at <{order.executed.price:.2f}>')\n",
    "            self.bar_executed = len(self)\n",
    "\n",
    "        elif order.status in [order.Canceled, order.Margin, order.Rejected, order.Expired]:\n",
    "            self.log('Order canceled, margin, rejected or expired', hint='WARN')\n",
    "\n",
    "        self.order = None\n",
    "        \n",
    "    def next(self):\n",
    "        if self.grids.level[0] > self.grids.level[-1] and self.grids.level[0] != 9.0 and self.getposition().size:\n",
    "            if self.order is not None:\n",
    "                self.cancel(self.order)\n",
    "                self.order = None\n",
    "            self.order = self.order_target_percent(target=(1 - self.p.remain) / 10 * (10 - self.grids.level[0]),\n",
    "                exectype=bt.Order.Limit, price=eval(f'self.grids.grid{int(self.grids.level[0])}'))\n",
    "            self.log(f\"Target percentage {10 - self.grids.level[0]}, now have \"\n",
    "                f\"{1 - self.broker.getcash() / self.broker.getvalue()}\", hint=\"INFO\")\n",
    "        elif self.grids.level[0] < self.grids.level[-1] and self.grids.level[0] != 0.0:\n",
    "            if self.order is not None:\n",
    "                self.cancel(self.order)\n",
    "                self.order = None\n",
    "            self.order = self.order_target_percent(target=(1 - self.p.remain) / 10 * (10 - self.grids.level[0]),\n",
    "                exectype=bt.Order.Limit, price=eval(f'self.grids.grid{int(self.grids.level[0] - 1)}'))\n",
    "            self.log(f\"Target percentage {10 - self.grids.level[0]}, now have \"\n",
    "                f\"{1 - self.broker.getcash() / self.broker.getvalue()}\", hint=\"INFO\")\n",
    "        # 1. judge which grid the close is in\n",
    "        # 2. compare with last grid\n",
    "        # 3. compare the current and the last 2 grids\n",
    "        # 4. decide the position"
   ]
  },
  {
   "cell_type": "markdown",
   "metadata": {},
   "source": [
    "## Data Preparation"
   ]
  },
  {
   "cell_type": "markdown",
   "metadata": {},
   "source": [
    "### Multi-Stock Data Loading"
   ]
  },
  {
   "cell_type": "code",
   "execution_count": null,
   "metadata": {},
   "outputs": [],
   "source": [
    "index = pd.read_parquet('../input/index/index_weights.parquet')\n",
    "index_list = index.loc(axis=0)['2022-08-04', '000016.XSHG'].index.to_list()"
   ]
  },
  {
   "cell_type": "code",
   "execution_count": null,
   "metadata": {},
   "outputs": [],
   "source": [
    "data = pd.read_parquet('../input/kline-daily/market_daily.parquet')\n",
    "data = data[['open', 'high', 'low', 'close', 'volume']]\n",
    "data = data.loc(axis=0)[:, index_list]\n",
    "data.index = data.index.remove_unused_levels()\n",
    "datas = []\n",
    "for d in data.index.levels[1]:\n",
    "    datas.append(bt.feeds.PandasData(dataname=data.loc(axis=0)[:, d].droplevel(1), \n",
    "        fromdate=pd.to_datetime('20190101'), todate=pd.to_datetime('20200101')))"
   ]
  },
  {
   "cell_type": "markdown",
   "metadata": {},
   "source": [
    "### Single Stock Data Loading"
   ]
  },
  {
   "cell_type": "code",
   "execution_count": null,
   "metadata": {},
   "outputs": [],
   "source": [
    "data = pd.read_parquet('../input/kline-daily/market_daily.parquet')\n",
    "data = data[['open', 'high', 'low', 'close', 'volume']]\n",
    "stock_code = \"600362.XSHG\"\n",
    "data = data.loc(axis=0)[:, stock_code].droplevel(1)\n",
    "data = bt.feeds.PandasData(dataname=data, fromdate=pd.to_datetime('20190101'), todate=pd.to_datetime('20200101'))"
   ]
  },
  {
   "cell_type": "markdown",
   "metadata": {},
   "source": [
    "## Basic Settings and Initialization in backtrader"
   ]
  },
  {
   "cell_type": "markdown",
   "metadata": {},
   "source": [
    "### Multi-Stock Adding"
   ]
  },
  {
   "cell_type": "code",
   "execution_count": null,
   "metadata": {},
   "outputs": [],
   "source": [
    "cerebro = bt.Cerebro()\n",
    "cerebro.addindicator(GridIndicator)\n",
    "cerebro.broker.set_cash(100_0000)\n",
    "for i, d in enumerate(datas):\n",
    "    cerebro.adddata(d, name=data.index.levels[1][i])\n",
    "cerebro.addstrategy(GridStrategy, period=5)"
   ]
  },
  {
   "cell_type": "markdown",
   "metadata": {},
   "source": [
    "### Single Stock Adding"
   ]
  },
  {
   "cell_type": "code",
   "execution_count": null,
   "metadata": {},
   "outputs": [],
   "source": [
    "cerebro = bt.Cerebro()\n",
    "cerebro.broker.set_cash(100_0000)\n",
    "cerebro.adddata(data)\n",
    "cerebro.addstrategy(GridStrategy, period=26)"
   ]
  },
  {
   "cell_type": "markdown",
   "metadata": {},
   "source": [
    "## Run the Strategy"
   ]
  },
  {
   "cell_type": "markdown",
   "metadata": {},
   "source": [
    "### Multi-Stock or Single-Stock Run for Only Once"
   ]
  },
  {
   "cell_type": "code",
   "execution_count": null,
   "metadata": {},
   "outputs": [],
   "source": [
    "cerebro.run()"
   ]
  },
  {
   "cell_type": "markdown",
   "metadata": {},
   "source": [
    "### Run for each Single Stock or Each Multi-Stock Portfolio"
   ]
  },
  {
   "cell_type": "code",
   "execution_count": null,
   "metadata": {},
   "outputs": [],
   "source": [
    "datas = pd.read_parquet('../input/kline-daily/market_daily.parquet')\n",
    "datas = datas[['open', 'high', 'low', 'close', 'volume']]\n",
    "stock_codes = index_list\n",
    "results = {}\n",
    "initial_cash = 100_0000\n",
    "for stock_code in tqdm(stock_codes):\n",
    "    data = datas.loc(axis=0)[:, stock_code].droplevel(1)\n",
    "    data = data.loc['20190101':'20200101']\n",
    "    if data.empty:\n",
    "        continue\n",
    "    feed = bt.feeds.PandasData(dataname=data, fromdate=pd.to_datetime('20190101'), todate=pd.to_datetime('20200101'))\n",
    "    cerebro = bt.Cerebro()\n",
    "    cerebro.broker.set_cash(initial_cash)\n",
    "    cerebro.adddata(feed)\n",
    "    cerebro.addstrategy(GridStrategy, period=26)\n",
    "    cerebro.run()\n",
    "    results[stock_code] = cerebro.broker.get_value() / initial_cash - 1"
   ]
  },
  {
   "cell_type": "markdown",
   "metadata": {},
   "source": [
    "## Show the Result / Save"
   ]
  },
  {
   "cell_type": "markdown",
   "metadata": {},
   "source": [
    "### Multi-Stock Plot"
   ]
  },
  {
   "cell_type": "code",
   "execution_count": null,
   "metadata": {},
   "outputs": [],
   "source": [
    "cerebro.plot(style='bar')\n",
    "plt.gcf().set_size_inches((18, 6 * len(datas)))\n",
    "# plt.gcf().savefig('test.png')"
   ]
  },
  {
   "cell_type": "markdown",
   "metadata": {},
   "source": [
    "### Single Stock Plot"
   ]
  },
  {
   "cell_type": "code",
   "execution_count": null,
   "metadata": {},
   "outputs": [],
   "source": [
    "cerebro.plot(style='bar')\n",
    "plt.gcf().set_size_inches((18, 9))\n",
    "# plt.gcf().savefig('test.png')"
   ]
  },
  {
   "cell_type": "markdown",
   "metadata": {},
   "source": [
    "### Stock Run One by One"
   ]
  },
  {
   "cell_type": "code",
   "execution_count": null,
   "metadata": {},
   "outputs": [],
   "source": [
    "(pd.Series(results) * index.loc[\"2022-08-04\", \"000016.XSHG\"]['weight']).sum()"
   ]
  },
  {
   "cell_type": "code",
   "execution_count": null,
   "metadata": {},
   "outputs": [],
   "source": []
  }
 ],
 "metadata": {
  "kernelspec": {
   "display_name": "Python 3.9.13 ('base')",
   "language": "python",
   "name": "python3"
  },
  "language_info": {
   "codemirror_mode": {
    "name": "ipython",
    "version": 3
   },
   "file_extension": ".py",
   "mimetype": "text/x-python",
   "name": "python",
   "nbconvert_exporter": "python",
   "pygments_lexer": "ipython3",
   "version": "3.9.13"
  },
  "orig_nbformat": 4,
  "vscode": {
   "interpreter": {
    "hash": "be461149623e13b126d9ab65bc78e9e52a75e1177f71df321c71dd4fbcccebcf"
   }
  }
 },
 "nbformat": 4,
 "nbformat_minor": 2
}
