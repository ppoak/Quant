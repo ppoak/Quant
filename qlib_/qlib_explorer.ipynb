{
 "cells": [
  {
   "cell_type": "markdown",
   "metadata": {},
   "source": [
    "# Qlib Explorer"
   ]
  },
  {
   "cell_type": "markdown",
   "metadata": {},
   "source": [
    "## Installation"
   ]
  },
  {
   "cell_type": "markdown",
   "metadata": {},
   "source": [
    "For normal x86 intel chip or amd chip, just create a conda virtual environment in python 3.8, then use `pip install` to make a qlib environment. code as follows:\n",
    "\n",
    "```shell\n",
    "conda create -n qlib python=3.8\n",
    "conda activate qlib\n",
    "pip install pyqlib\n",
    "```\n",
    "\n",
    "But on Mac M1 arm, things are slightly different, but to start with, create a conda environment.\n",
    "\n",
    "```shell\n",
    "conda create -n qlib python=3.8\n",
    "```\n",
    "\n",
    "Then, clone the qlib project to a proper directory, like `Desktop`\n",
    "\n",
    "```shell\n",
    "git clone https://github.com/microsoft/qlib\n",
    "```\n",
    "\n",
    "Then, `cd` to the directory and install the dependency using conda first\n",
    "\n",
    "```shell\n",
    "conda install lightbgm ecos pytables cvxpy mlflow fire ruamel\n",
    "```\n",
    "\n",
    "These dependencies are neccessary to install by conda because the are not pure python package, without conda, the installation might not be successful. After installing these, we can simple use the command below to install the qlib library to Mac M1 locally.\n",
    "\n",
    "```shell\n",
    "export HDF5_DIR=/path/to/somewhere/you/want/to/store/hdf5file\n",
    "pip install .\n",
    "```\n",
    "\n",
    "Wait for a second, the installation will be successful. And the following cell can be run."
   ]
  },
  {
   "cell_type": "code",
   "execution_count": null,
   "metadata": {},
   "outputs": [],
   "source": [
    "import qlib\n",
    "\n",
    "qlib.__version__"
   ]
  },
  {
   "cell_type": "markdown",
   "metadata": {},
   "source": [
    "## Data Transformation"
   ]
  },
  {
   "cell_type": "markdown",
   "metadata": {},
   "source": [
    "### Daily Data"
   ]
  },
  {
   "cell_type": "markdown",
   "metadata": {},
   "source": [
    "The Qlib provide a better storage plan for most of quanters, we can view this as below:\n",
    "\n",
    "![qlib-storage-structure](../images/qlib_storage_structure.png)\n",
    "\n",
    "In features directory, keeps the features of our dataset, each stock for a directory, and each feature a bin file in the directory. Show as follows:\n",
    "\n",
    "![qlib-storage-features](./images/qlib_storage_features.png)\n",
    "\n",
    "Anyway, the three core file in these directories are `day.txt`, `all.txt`, and the `bin files`. The `day.txt` simply stored the all trading day calender amoung all instruments, which is the union set of the all instruments' trading days. The `all.txt` records the entry date and exit date for every instrument in a line. The `bin files` are slightly special, the value of them are a column for one sepcified instrument, but the **first value is the index of the feature start date in `day.txt`**, and the file is stored in numpy generic `bin` format wihout any extra information.\n",
    "\n",
    "To generate these files, you can simple realize that by numpy or pandas. For `day.txt`, simply construct the union set of your total data, and store them into a list, use `np.savetxt` is quite enough, or you can construct a Series (or DataFrame), using `data.to_csv('day.txt', headers=False, index=False)` is also a great way to accomplish that. For `all.txt`, get the min date and max date for each instrument, construct a list or DataFrame, use `np.savetxt` or `data.to_csv` like above works fine, further more, to make this faster, we recommend using `pandas.core.DataFrame.groupby`. For `bin files`, we need to get each instrument, and get the index of first date, save the numpy format data using `data[feature].value.tofile`. But before that, we must apply `np.hstack([date_index, data[feature].value])` first. However, in updating process, `hstack` is not neccessary.\n",
    "\n",
    "Qlib provide a `script/dump_bin` script to simplify our workflow of dumping data into bin, however, that is for `csv` file only, if your files are `feathe` or `parquet` format, that can not help. So we provide a `SingleFileDumper` in [library](../library/dumper.py). You can try that."
   ]
  },
  {
   "cell_type": "code",
   "execution_count": null,
   "metadata": {},
   "outputs": [],
   "source": [
    "class Dumper:\n",
    "    ...\n",
    "class IndexCompDumper(Dumper):\n",
    "    ...\n",
    "def format_code():\n",
    "    ..."
   ]
  },
  {
   "cell_type": "code",
   "execution_count": null,
   "metadata": {},
   "outputs": [],
   "source": [
    "%run ../mylib/utils.py\n",
    "%run ../mylib/dumper.py"
   ]
  },
  {
   "cell_type": "code",
   "execution_count": null,
   "metadata": {},
   "outputs": [],
   "source": [
    "import pandas as pd\n",
    "\n",
    "data = pd.read_parquet('../data/kline_daily/market_daily.parquet')\n",
    "new_data = pd.read_parquet('../data/kline_daily/kline_daily_20220805_20220819.parquet')\n",
    "turnover = pd.read_parquet('../data/derivative_indicators/turnover.parquet')\n",
    "turnover = turnover['today']\n",
    "turnover.name = 'turnover'\n",
    "index_comp = pd.read_parquet('../data/index/index_weights.parquet')\n",
    "index_market = pd.read_parquet('../data/index/index_market_daily.parquet')"
   ]
  },
  {
   "cell_type": "code",
   "execution_count": null,
   "metadata": {},
   "outputs": [],
   "source": [
    "data.index = pd.MultiIndex.from_arrays([\n",
    "    pd.to_datetime(data.index.get_level_values(0)),\n",
    "    data.index.get_level_values(1).str.slice(0, 6).map(format_code),\n",
    "])\n",
    "new_data.index = pd.MultiIndex.from_arrays([\n",
    "    pd.to_datetime(new_data.index.get_level_values(0)),\n",
    "    new_data.index.get_level_values(1).str.slice(0, 6).map(format_code),\n",
    "])\n",
    "turnover.index = pd.MultiIndex.from_arrays([\n",
    "    pd.to_datetime(turnover.index.get_level_values(0)),\n",
    "    turnover.index.get_level_values(1).str.slice(0, 6).map(format_code),\n",
    "])\n",
    "index_market.index = pd.MultiIndex.from_arrays([\n",
    "    pd.to_datetime(index_market.index.get_level_values(0)),\n",
    "    index_market.index.get_level_values(1).map(format_code),\n",
    "])\n",
    "index_comp.index = pd.MultiIndex.from_arrays([\n",
    "    pd.to_datetime(index_comp.index.get_level_values(0)),\n",
    "    index_comp.index.get_level_values(1).map(format_code),\n",
    "    index_comp.index.get_level_values(2).str.slice(0, 6).map(format_code),\n",
    "])"
   ]
  },
  {
   "cell_type": "code",
   "execution_count": null,
   "metadata": {},
   "outputs": [],
   "source": [
    "Dumper(data, uri='../data/qlib_day', mode='w').dump()\n",
    "Dumper(new_data, uri='../data/qlib_day', mode='a').dump()\n",
    "Dumper(turnover, uri='../data/qlib_day/', mode='f').dump()\n",
    "IndexCompDumper(index_comp, index_col=1, uri='../data/qlib_day').dump()\n",
    "Dumper(index_market, uri='../data/qlib_day', mode='a').dump()"
   ]
  },
  {
   "cell_type": "markdown",
   "metadata": {},
   "source": [
    "### PIT Data"
   ]
  },
  {
   "cell_type": "markdown",
   "metadata": {},
   "source": [
    "PIT data can be easily processed and stored in a continuous time series based file or database. However, this way of storing is not only redudent but also time consuming. Qlib provide us a clever way to store PIT data.\n",
    "\n",
    "PIT data store in the same directory with daily kline data, but has a independent directory called financial. Each instrument has a sub-directory like the feature sub-directory. But what is different is that each feature not only depends on one binary file, but also a index binary file. Let's start with the index file.\n",
    "\n",
    "The index file should ends with the suffix '.index', and all features in `financial` data should be followed by `_q` or `_a` ending, `_q` means it is quartly data, and `_a` means it is annually data. To start with, the first element in index file is `start_year`, this is a unsigned integer, marked as `'I'`, and this is used as the first report period year amoung the data. The, the binary index file is followed with **byte index**, this index is the actual file cursor offset index indicating the position of `.data` file.\n",
    "\n",
    "Then we turn to the `.data` file, this is where the data actually stored. the data is stored in a 4 column array (however it is not store in numpy array binary format, the original data is generated by `struct` package). The first column is the annote date, indicating the actual date of publishing the data. The second columns is report period, meaning to which report period the data belongs. The third column is real value of the data. The fourth column is the byte index where current data appears again, it points to a infinitely large position if it is the latest data for that period. This structure is some what like a chained table, when given a date, we can easily access the latest published data on that date, and at the same time, we can easily get the latest data \"in the future\" (quoted because the future is relative to that given date).\n",
    "\n",
    "![pit-data](./images/pit-data.png)\n",
    "\n",
    "Moreover, when accessing the pit data, we can use the indentifier and operater like `\"P($$some_ind_q)\"` before the actual feature name."
   ]
  },
  {
   "cell_type": "code",
   "execution_count": null,
   "metadata": {},
   "outputs": [],
   "source": [
    "class PDumper:\n",
    "    ..."
   ]
  },
  {
   "cell_type": "code",
   "execution_count": null,
   "metadata": {},
   "outputs": [],
   "source": [
    "balance_sheet = pd.read_parquet('../data/financial/balance.parquet')\n",
    "balance_sheet.SECUCODE = balance_sheet.SECUCODE.map(format_code)"
   ]
  },
  {
   "cell_type": "code",
   "execution_count": null,
   "metadata": {},
   "outputs": [],
   "source": [
    "%run ../mylib/dumper.py"
   ]
  },
  {
   "cell_type": "code",
   "execution_count": null,
   "metadata": {},
   "outputs": [],
   "source": [
    "PDumper(\n",
    "    balance_sheet,\n",
    "    inst_col = 'SECUCODE',\n",
    "    ann_col = 'NOTICE_DATE',\n",
    "    period_col = 'REPORT_DATE',\n",
    "    uri = '../data/qlib_day/'\n",
    ").dump()"
   ]
  },
  {
   "cell_type": "markdown",
   "metadata": {},
   "source": [
    "## Data Access"
   ]
  },
  {
   "cell_type": "markdown",
   "metadata": {},
   "source": [
    "Now we have successfully converted daily trading data into qlib format, we can use the qlib api to fetch useful data into memory.\n",
    "\n",
    "There is a `D` interface provided in `qlib.data`, with the `feature` method, we can get access to specific feature for instrument during given time.\n",
    "\n",
    "Mind that this is only a simplified interface, in the following part we will introduce the interface for real workflow"
   ]
  },
  {
   "cell_type": "code",
   "execution_count": null,
   "metadata": {},
   "outputs": [],
   "source": [
    "import plotly.graph_objects as go\n",
    "from qlib.data import D\n",
    "import qlib"
   ]
  },
  {
   "cell_type": "code",
   "execution_count": null,
   "metadata": {},
   "outputs": [],
   "source": [
    "# qlib.init()\n",
    "qlib.init(provider_uri='../data/qlib_day/')"
   ]
  },
  {
   "cell_type": "code",
   "execution_count": null,
   "metadata": {},
   "outputs": [],
   "source": [
    "D.features(['sh.600009'], ['P($$accounts_payable_q)'], start_time=\"2020-01-01\", end_time=\"2021-01-01\", freq=\"day\").head()"
   ]
  },
  {
   "cell_type": "code",
   "execution_count": null,
   "metadata": {},
   "outputs": [],
   "source": [
    "D.features(instruments=['sh.600519'], start_time='2021-01-01', end_time='20220819', fields=['$open', '$high', '$low', '$close']).head()"
   ]
  },
  {
   "cell_type": "markdown",
   "metadata": {},
   "source": [
    "## Data Loader"
   ]
  },
  {
   "cell_type": "markdown",
   "metadata": {},
   "source": [
    "### QlibDataLoader"
   ]
  },
  {
   "cell_type": "markdown",
   "metadata": {},
   "source": [
    "Data Loader is a builtin qlib data reader, we can use this class to load any cross sectional and time series data. We can initialize it with a `config` parameter, and provide the `expression variable` and `rename variable` in two list."
   ]
  },
  {
   "cell_type": "code",
   "execution_count": null,
   "metadata": {},
   "outputs": [],
   "source": [
    "from qlib.data.dataset.loader import QlibDataLoader\n",
    "\n",
    "# like sql `as` expression, the latter list indicates the names of the column\n",
    "qdl = QlibDataLoader(config=(['$close', '$high'], ['close', 'high']))\n",
    "qdl.load(instruments=['600519.xshg'], start_time='2022-08-01', end_time='20220819')"
   ]
  },
  {
   "cell_type": "markdown",
   "metadata": {},
   "source": [
    "We can also use the qlib expression engine to load some calculated features into the memory"
   ]
  },
  {
   "cell_type": "code",
   "execution_count": null,
   "metadata": {},
   "outputs": [],
   "source": [
    "insts = ['600000.XSHG', '600004.XSHG', '600009.XSHG']\n",
    "close_ma = ['EMA($close, 10)', 'EMA($close, 30)']\n",
    "ma_names = ['EMA10', 'EMA30']\n",
    "qdl_ma = QlibDataLoader(config=(close_ma, ma_names))\n",
    "qdl_ma.load(instruments=insts, start_time='20210101', end_time='20210110')"
   ]
  },
  {
   "cell_type": "markdown",
   "metadata": {},
   "source": [
    "Moreover, you can find other expression operator in `/qlib/data/ops.py`\n",
    "\n",
    "Sometimes, we need to classify the calculated data, the most frequently used class name is `feature` and `label`, we can change the `list format config` to `dict format config`."
   ]
  },
  {
   "cell_type": "code",
   "execution_count": null,
   "metadata": {},
   "outputs": [],
   "source": [
    "insts = ['600000.XSHG', '600004.XSHG', '600009.XSHG']\n",
    "close_ma = ['EMA($close, 10)', 'EMA($close, 30)']\n",
    "ma_names = ['EMA10', 'EMA30']\n",
    "ret = ['Ref($close, -2) / Ref($close, -1) - 1',]\n",
    "ret_name = ['forward',]\n",
    "qdl_ma_gp = QlibDataLoader(config={'feature': (close_ma, ma_names), 'label': (ret, ret_name)})\n",
    "qdl_ma_gp.load(instruments=insts, start_time='20210101', end_time='20210110')"
   ]
  },
  {
   "cell_type": "markdown",
   "metadata": {},
   "source": [
    "Using parameter `filter_pipe` can also help us filter stocks which only satisfy our preset conditions."
   ]
  },
  {
   "cell_type": "code",
   "execution_count": null,
   "metadata": {},
   "outputs": [],
   "source": [
    "from qlib.data.filter import ExpressionDFilter\n",
    "\n",
    "insts = 'all'\n",
    "close_ma = ['EMA($close, 10)', 'EMA($close, 30)']\n",
    "ma_names = ['EMA10', 'EMA30']\n",
    "\n",
    "filter_rule = ExpressionDFilter(rule_expression='EMA($close, 10) > EMA($close, 30)')\n",
    "\n",
    "qdl_fil = QlibDataLoader(config=(close_ma, ma_names), filter_pipe=[filter_rule,])\n",
    "qdl_fil.load(instruments=insts, start_time='20210104', end_time='20210104')"
   ]
  },
  {
   "cell_type": "markdown",
   "metadata": {},
   "source": [
    "### StaticDataLoader"
   ]
  },
  {
   "cell_type": "markdown",
   "metadata": {},
   "source": [
    "Also, qlib provide us a `StaticDataLoader` for direct access to outer data file, it reads pickle file by default, but, with a dictionary format parameter `config`, csv and h5df format are also supported.\n",
    "\n",
    "And not only the static file can be read by `StaticDataLoader`, the in memory dataframe can be read by `StaticDataloader`"
   ]
  },
  {
   "cell_type": "code",
   "execution_count": null,
   "metadata": {},
   "outputs": [],
   "source": [
    "qdl = QlibDataLoader(config=(['$open', '$high', '$low', '$close'], ['open', 'high', 'low', 'close']))\n",
    "df = qdl.load(instruments=['600000.XSHG', '600004.XSHG', '600009.XSHG'], start_time='20210101', end_time='20211231')\n",
    "df.to_pickle('../data/other/sample.pkl')"
   ]
  },
  {
   "cell_type": "code",
   "execution_count": null,
   "metadata": {},
   "outputs": [],
   "source": [
    "from qlib.data.dataset.loader import StaticDataLoader\n",
    "\n",
    "sdl_pkl = StaticDataLoader(config={'feature': '../data/other/sample.pkl'})\n",
    "sdl_pkl.load(instruments=['600009.XSHG'], start_time='20210101', end_time='20210131')"
   ]
  },
  {
   "cell_type": "code",
   "execution_count": null,
   "metadata": {},
   "outputs": [],
   "source": [
    "data = sdl_pkl.load(instruments=['600009.XSHG'], start_time='20210101', end_time='20210131')\n",
    "sdl_df = StaticDataLoader(config=data)\n",
    "sdl_df.load()"
   ]
  },
  {
   "cell_type": "markdown",
   "metadata": {},
   "source": [
    "## Data Handler"
   ]
  },
  {
   "cell_type": "markdown",
   "metadata": {},
   "source": [
    "Before model training, we must preprocess some data like missing value, or simply standarize our dataset. DataHandler is designed for this.\n",
    "\n",
    "DataHandler takes three key parameters in the process of handling data:\n",
    "\n",
    "1. infer_processors: **learn parameters during fitting time, and process data during non-fitting time**\n",
    "2. learn_processors: **process data without learning**\n",
    "3. shared_processors: **shared processors**\n",
    "\n",
    "Because there is learning process in `infer_processors`, they where provide `fit` method in their class definition.\n",
    "\n",
    "DataHandler will keep raw data and processed data during processing, when user fetches data, it will return different types of data according to the data key.\n",
    "\n",
    "> *In my point of view, the `learn_processors` are more like a time-series based data processors, and the `infer_processors` are cross-section based data processors*\n",
    "\n",
    "1. `data_key = DataHandlerLP.DK_I`, return infer df\n",
    "2. `data_key = DataHandlerLP.DK_L`, return learn df\n",
    "3. `data_key = DataHandlerLP.DK_R`, return raw df\n",
    "\n",
    "There is another parameter called `process_type`, which decide the sequence of processing data\n",
    "\n",
    "1. `process_type = DataHandlerLP.PTYPE_I`, process of independent\n",
    "2. `process_type = DataHandlerLP.PTYPE_A`, process of append\n",
    "\n",
    "![process-type](./images/process-type.jpg)"
   ]
  },
  {
   "cell_type": "code",
   "execution_count": null,
   "metadata": {},
   "outputs": [],
   "source": [
    "from qlib.data.dataset.processor import CSZScoreNorm, DropnaProcessor, ZScoreNorm\n",
    "from qlib.data.dataset.handler import DataHandlerLP\n",
    "\n",
    "shared_processors = [DropnaProcessor()]\n",
    "learn_processors = [CSZScoreNorm()]\n",
    "infer_processors = [ZScoreNorm(fit_start_time='20210101', fit_end_time='20210110')]\n",
    "\n",
    "dh_pr_test = DataHandlerLP(\n",
    "    instruments = ['600000.XSHG', '600004.XSHG', '600009.XSHG'],\n",
    "    start_time = '20210101',\n",
    "    end_time = '20210120',\n",
    "    process_type = DataHandlerLP.PTYPE_I,\n",
    "    learn_processors = learn_processors,\n",
    "    shared_processors = shared_processors,\n",
    "    infer_processors = infer_processors,\n",
    "    data_loader = qdl,\n",
    ")"
   ]
  },
  {
   "cell_type": "markdown",
   "metadata": {},
   "source": [
    "Okay, let's fetch the results"
   ]
  },
  {
   "cell_type": "code",
   "execution_count": null,
   "metadata": {},
   "outputs": [],
   "source": [
    "raw_df = dh_pr_test.fetch(data_key=DataHandlerLP.DK_R)\n",
    "infer_df = dh_pr_test.fetch(data_key=DataHandlerLP.DK_I)\n",
    "learn_df = dh_pr_test.fetch(data_key=DataHandlerLP.DK_L)\n",
    "\n",
    "infer_df.isna().sum(), learn_df.isna().sum()"
   ]
  },
  {
   "cell_type": "code",
   "execution_count": null,
   "metadata": {},
   "outputs": [],
   "source": [
    "learn_df.head()"
   ]
  },
  {
   "cell_type": "code",
   "execution_count": null,
   "metadata": {},
   "outputs": [],
   "source": [
    "infer_df.head()"
   ]
  },
  {
   "cell_type": "markdown",
   "metadata": {},
   "source": [
    "## DataSet"
   ]
  },
  {
   "cell_type": "markdown",
   "metadata": {},
   "source": [
    "Now, we come to the last step before training, dataset spliting.\n",
    "\n",
    "Dataset class definition is directly stored in `qlib.data.dataset`. Now we can have a overview of the `qlib.data.dataset` package. The workflow is to initialize a `DataLoader` for `DataHandler`, and initialize the `DataHandler` for a final `DataSetH`, where 'H' means `Handler`, indicating that the `DataSet` is constructed from a `DataHandler`."
   ]
  },
  {
   "cell_type": "code",
   "execution_count": null,
   "metadata": {},
   "outputs": [],
   "source": [
    "from qlib.data.dataset import DatasetH\n",
    "\n",
    "ds = DatasetH(handler=dh_pr_test, segments={\"train\": (\"20210101\", \"20210105\"), \"test\": (\"20210106\", \"20210110\")})"
   ]
  },
  {
   "cell_type": "markdown",
   "metadata": {},
   "source": [
    "To fetch the splited data, use `ds.prepare`, the parameter is the segments name"
   ]
  },
  {
   "cell_type": "code",
   "execution_count": null,
   "metadata": {},
   "outputs": [],
   "source": [
    "ds.prepare('train').head()"
   ]
  },
  {
   "cell_type": "code",
   "execution_count": null,
   "metadata": {},
   "outputs": [],
   "source": [
    "ds.prepare('test').head()"
   ]
  },
  {
   "cell_type": "markdown",
   "metadata": {},
   "source": [
    "As a matter of fact, some model takes time series data as input, or they are trained in a rolling window. Qlib provide us a class called `TSDataH` which helps us generate time-series dataset. just follow the next cell, you will create a ten-day rolling window dataset. And with the day rolling on, you can get latest data in `data[date]` way. Then you can feed them into the model, then train it rollingly.\n",
    "\n",
    "**NOTE: althogh the `TSDataSampler` can access data through `[datetime, asset]`, but unlike the pandas index, `TSDataSampler` won't check whether the asset exist. Actually, it use `bisect.bisect_right` to judge the position of asset. So nonexist asset might be accepted and the return won't be the asset information.**"
   ]
  },
  {
   "cell_type": "code",
   "execution_count": null,
   "metadata": {},
   "outputs": [],
   "source": [
    "from qlib.data.dataset import TSDatasetH\n",
    "from qlib.data.dataset.loader import QlibDataLoader\n",
    "from qlib.data.dataset.handler import DataHandlerLP\n",
    "from qlib.data.dataset.processor import CSZScoreNorm\n",
    "\n",
    "dl = QlibDataLoader(\n",
    "    config = [\n",
    "        (\"$open\", \"$high\", \"$low\", \"$close\"),\n",
    "        (\"open\", \"high\", \"low\", \"close\"),\n",
    "    ]\n",
    ")\n",
    "dh = DataHandlerLP(\n",
    "    instruments = \"000016.XSHG\",\n",
    "    start_time = \"20200101\",\n",
    "    end_time = \"20220801\",\n",
    "    process_type = \"independent\",\n",
    "    # infer_processors = [CSZScoreNorm()],\n",
    "    data_loader = dl\n",
    ")\n",
    "ds = TSDatasetH(\n",
    "    step_len = 10,\n",
    "    segments = {\n",
    "        \"train\": (\"20200101\", \"20220101\"),\n",
    "        \"valid\": (\"20220104\", \"20220601\"),\n",
    "        \"test\": (\"20220602\", \"20220801\"),\n",
    "    },\n",
    "    handler = dh,\n",
    ")\n",
    "train_sampler = ds.prepare('train')"
   ]
  },
  {
   "cell_type": "markdown",
   "metadata": {},
   "source": [
    "The `TSDatasetH` returns a `TSDataSampler` as output. This is a class providing rolling window data. It can be selected in normal pandas way like `[datetime, asset]`, and it can also be selected by a single integer.\n",
    "\n",
    "When you sample in a pandas way, you will get a `np.ndarray`, and you may encounter a lot of `nan`s in the results in first few samples. That's because the number of data doesn't fit the rolling window, so qlib can fulfill them with `nan` automatically. however, when encountering `nan` data in the middle part, the `fillna_type` can really work."
   ]
  },
  {
   "cell_type": "code",
   "execution_count": null,
   "metadata": {},
   "outputs": [],
   "source": [
    "import pandas as pd\n",
    "\n",
    "dl.load(instruments=['600000.XSHG'], start_time='20200917', end_time='20201001').droplevel(1)"
   ]
  },
  {
   "cell_type": "code",
   "execution_count": null,
   "metadata": {},
   "outputs": [],
   "source": [
    "train_sampler['20201001', \"600000.XSHG\"]"
   ]
  },
  {
   "cell_type": "markdown",
   "metadata": {},
   "source": [
    "Like said before, the other way of selecting data in sampler is using integer. The logic of using integer to slice data is:\n",
    "\n",
    "1. convert the integer to a tuple, assuming this integer as the index of sampler data index, which you can access by `train_sampler.data_index`;\n",
    "2. from the tuple before, the first value is the date index, and the second value is the instrument index. Then we select the latest `step_len` days within the same asset, return the data.\n",
    "\n",
    "This method is not that explicit, so maybe the pandas style slicing is more useful."
   ]
  },
  {
   "cell_type": "code",
   "execution_count": null,
   "metadata": {},
   "outputs": [],
   "source": [
    "# train_sampler.idx_df store the index mapping in a dataframe format\n",
    "n = train_sampler.data_index.get_indexer([('20200930', '600000.XSHG')])\n",
    "train_sampler[n]"
   ]
  },
  {
   "cell_type": "markdown",
   "metadata": {},
   "source": [
    "Last but not least, here are some useful attributes that may help you find the logic of slicing:\n",
    "\n",
    "1. `train_sampler.data_index`, a data index which is taken from the original dataset\n",
    "2. `train_sampler.idx_df`, a index mapping for `train_sampler.data_index`, the value of the dataframe is the position index from `train_sampler.data_index`\n",
    "3. `train_sampler.data_arr`, original dataset in array format\n",
    "4. `train_sampler.idx_map`, the ndarray form index storing the numerical index for `train_sampler.data_index`"
   ]
  },
  {
   "cell_type": "markdown",
   "metadata": {},
   "source": [
    "## Model Training"
   ]
  },
  {
   "cell_type": "markdown",
   "metadata": {},
   "source": [
    "Now, we can get processed dataset with features and label. The next step is to train the dataset using different models. Qlib has a lot of builtin models, the same, they are located in `qlib.contrib.model`."
   ]
  },
  {
   "cell_type": "code",
   "execution_count": null,
   "metadata": {},
   "outputs": [],
   "source": [
    "from qlib.contrib.data.handler import Alpha158\n",
    "from qlib.data.dataset import TSDatasetH\n",
    "from qlib.contrib.model.pytorch_alstm_ts import ALSTM\n",
    "\n",
    "train_period = (\"2021-01-01\", \"2021-01-10\")\n",
    "valid_period = (\"2021-01-11\", \"2021-01-15\")\n",
    "test_period = (\"2021-01-16\", \"2021-01-20\")\n",
    "\n",
    "dh = Alpha158(\n",
    "    instruments = ['600000.XSHG', '600004.XSHG', '600009.XSHG'],\n",
    "    start_time = train_period[0],\n",
    "    end_time = test_period[1],\n",
    "    infer_processors = {}\n",
    ")\n",
    "ds = TSDatasetH(\n",
    "    handler = dh,\n",
    "    step_len = 40,\n",
    "    segments = {\n",
    "        \"train\": train_period,\n",
    "        \"valid\": valid_period,\n",
    "        \"test\": test_period,\n",
    "    },\n",
    ")\n",
    "model = ALSTM(\n",
    "    d_feat = 158,\n",
    "    metric = \"mse\",\n",
    "    run_type = \"GRU\",\n",
    "    batch_size = 800,\n",
    "    early_stop = 10,\n",
    ")\n",
    "model.fit(dataset = ds, save_path = None)\n",
    "model.predict(dataset=ds, segement='test')"
   ]
  },
  {
   "cell_type": "markdown",
   "metadata": {},
   "source": [
    "## Configuration"
   ]
  },
  {
   "cell_type": "markdown",
   "metadata": {},
   "source": [
    "Actually, Qlib provide users a more convenient way to initialize a `QlibDataLoader`, `DataHandler` , `Dataset` or even a `Model`. The interface function is `init_instance_by_config`."
   ]
  },
  {
   "cell_type": "code",
   "execution_count": null,
   "metadata": {},
   "outputs": [],
   "source": [
    "from qlib.utils import init_instance_by_config\n",
    "\n",
    "qdl_config = {\n",
    "    \"class\": \"QlibDataLoader\",\n",
    "    \"module_path\": \"qlib.data.dataset.loader\",\n",
    "    \"kwargs\": {\n",
    "        \"config\": {\n",
    "            \"feature\": (['EMA($close, 10)', 'EMA($close, 30)'], ['EMA10', 'EMA30']),\n",
    "            \"label\": (['Ref($close, -2) / Ref($close, -1) - 1'], ['Forward',]),\n",
    "        },\n",
    "        \"freq\": \"day\",\n",
    "    }\n",
    "}\n",
    "\n",
    "qdl = init_instance_by_config(qdl_config)\n",
    "insts = ['600000.XSHG', '600004.XSHG', '600009.XSHG']\n",
    "qdl.load(instruments=insts, start_time='20210101', end_time='20210131').head()"
   ]
  },
  {
   "cell_type": "markdown",
   "metadata": {},
   "source": [
    "And it is also availble for us to omit the `module_path` key in `qdl_config`, but it should be implemented in `class` key like:\n",
    "\n",
    "```python\n",
    "qdl_config = {\n",
    "    \"class\": \"qlib.data.dataset.loader.QlibDataLoader\",\n",
    "    \"kwargs\": {\n",
    "        ...\n",
    "    }\n",
    "}\n",
    "```\n",
    "\n",
    "Since the `DataHandler` can also be initialized by `init_instance_by_config`, we can actually save some factor definition by using the config dictionary. But to start with, we inherit a `DataHandlerLP`. So we can fetch handled data simply by `fetch` function and construct a `Dataset` easily."
   ]
  },
  {
   "cell_type": "code",
   "execution_count": null,
   "metadata": {},
   "outputs": [],
   "source": [
    "class MACDRSIFeature(DataHandlerLP):\n",
    "    def __init__(\n",
    "        self,\n",
    "        instruments = None,\n",
    "        start_time = None,\n",
    "        end_time = None,\n",
    "        freq = \"day\",\n",
    "        infer_processors = [],\n",
    "        learn_processors = [],\n",
    "        fit_start_time = None,\n",
    "        fit_end_time = None,\n",
    "        process_type=DataHandlerLP.PTYPE_A,\n",
    "        **kwargs,\n",
    "    ):\n",
    "        data_loader = {\n",
    "            \"class\": \"QlibDataLoader\",\n",
    "            \"kwargs\": {\n",
    "                \"config\": {\n",
    "                    \"feature\": self.get_feature_config(),\n",
    "                    \"label\": kwargs.get(\"label\", self.get_label_config()),\n",
    "                },\n",
    "                \"freq\": freq,\n",
    "            }\n",
    "        }\n",
    "        super().__init__(\n",
    "            instruments = instruments,\n",
    "            start_time = start_time,\n",
    "            end_time = end_time,\n",
    "            data_loader = data_loader,\n",
    "            infer_processors = infer_processors,\n",
    "            learn_processors = learn_processors,\n",
    "            process_type = process_type,\n",
    "        )\n",
    "    \n",
    "    def get_feature_config(self):\n",
    "        macd = '(EMA($close, 12) - EMA($close, 26)) / $close - EMA((EMA($close, 12) - EMA($close, 26)) / $close, 9) / $close'\n",
    "        rsi = ('100 - 100 / (1 + (Sum(Greater($close - Ref($close, 1), 0), 14) / Count(($close - Ref($close, 1)) > 0, 14)) /'\n",
    "            '(Sum(Abs(Greater(Ref($close, 1) - $close, 0)), 14) / Count(($close - Ref($close, 1)) < 0, 14)))')\n",
    "        return [macd, rsi], ['MACD', 'RSI']\n",
    "    def get_label_config(self):\n",
    "        return ([\"Ref($close, -2) / Ref($close, -1) - 1\", ], [\"Forward\", ])\n",
    "    \n",
    "feature = MACDRSIFeature(instruments=['600000.XSHG', '600004.XSHG', '600009.XSHG'], start_time='20210101', end_time='2021-01-31')\n",
    "feature.fetch().head()"
   ]
  },
  {
   "cell_type": "markdown",
   "metadata": {},
   "source": [
    "Actually, inheriting `DataHandlerLP` doesn't come from nowhere, the builtin `Alpha158` and `Alpha360` also takes the same way. And moreover, models, preset factors almost all located in `qlib.contrib`, where you can check out later.\n",
    "\n",
    "Here we provide a snippet of `Alpha360` definition in qlib\n",
    "\n",
    "```python\n",
    "class Alpha360(DataHandlerLP):\n",
    "    def __init__(\n",
    "        self,\n",
    "        instruments=\"csi500\",\n",
    "        start_time=None,\n",
    "        end_time=None,\n",
    "        freq=\"day\",\n",
    "        infer_processors=_DEFAULT_INFER_PROCESSORS,\n",
    "        learn_processors=_DEFAULT_LEARN_PROCESSORS,\n",
    "        fit_start_time=None,\n",
    "        fit_end_time=None,\n",
    "        filter_pipe=None,\n",
    "        inst_processor=None,\n",
    "        **kwargs,\n",
    "    ):\n",
    "    ...\n",
    "```\n",
    "\n",
    "By this kind of configurations, we can easily construct dataset and model, and this can be called a workflow."
   ]
  },
  {
   "cell_type": "code",
   "execution_count": null,
   "metadata": {},
   "outputs": [],
   "source": [
    "ds_config = {\n",
    "    \"class\": \"TSDatasetH\",\n",
    "    \"module_path\": \"qlib.data.dataset\",\n",
    "    \"kwargs\": {\n",
    "        \"handler\": {\n",
    "            \"class\": \"Alpha158\",\n",
    "            \"module_path\": \"qlib.contrib.data.handler\",\n",
    "            \"kwargs\": {\n",
    "                \"start_time\": \"2015-01-01\",\n",
    "                \"end_time\": \"2022-03-01\",\n",
    "                \"fit_start_time\": \"2015-01-01\",\n",
    "                \"fit_end_time\": \"2019-12-31\",\n",
    "                \"instruments\": ['600000.XSHG', '600004.XSHG', '600009.XSHG'],\n",
    "                \"infer_processors\": [\n",
    "                    {\n",
    "                        \"class\": \"RobustZScoreNorm\",\n",
    "                        \"kwargs\": {\n",
    "                            \"fields_group\": \"feature\",\n",
    "                            \"clip_outlier\": True,\n",
    "                        },\n",
    "                    },\n",
    "                    {\n",
    "                        \"class\": \"Fillna\",\n",
    "                        \"kwargs\": {\n",
    "                            \"fields_group\": \"feature\",\n",
    "                        },\n",
    "                    },\n",
    "                ],\n",
    "                \"learn_processors\": [\n",
    "                    {\n",
    "                        \"class\": \"DropnaLabel\",\n",
    "                    },\n",
    "                    {\n",
    "                        \"class\": \"CSRankNorm\",\n",
    "                        \"kwargs\": {\n",
    "                            \"fields_group\": \"label\"\n",
    "                        }\n",
    "                    },\n",
    "                ],\n",
    "                \"label\": [\"Ref($close, -2) / Ref($close, -1) - 1\"],\n",
    "            }\n",
    "        },\n",
    "        \"segments\": {\n",
    "            \"train\": [\"2015-01-01\", \"2019-12-31\"],\n",
    "            \"valid\": [\"2020-01-01\", \"2020-12-31\"],\n",
    "            \"test\": [\"2021-01-01\", \"2022-03-01\"],\n",
    "        },\n",
    "        \"step_len\": 40,\n",
    "    }\n",
    "}\n",
    "model_config = {\n",
    "    \"class\": \"ALSTM\",\n",
    "    \"module_path\": \"qlib.contrib.model.pytorch_alstm_ts\",\n",
    "    \"kwargs\": {\n",
    "        \"d_feat\": 158,\n",
    "        \"hidden_size\": 64,\n",
    "        \"num_layers\": 2,\n",
    "        \"dropout\": 0.0,\n",
    "        \"n_epochs\": 200,\n",
    "        \"lr\": 1e-3,\n",
    "        \"early_stop\": 10,\n",
    "        \"batch_size\": 800,\n",
    "        \"metric\": \"loss\",\n",
    "        \"loss\": \"mse\",\n",
    "        \"n_jobs\": 20,\n",
    "        \"GPU\": 0,\n",
    "        \"run_type\": \"GRU\",\n",
    "    }\n",
    "}\n",
    "\n",
    "ds = init_instance_by_config(ds_config)\n",
    "model = init_instance_by_config(model_config)\n",
    "model.fit(dataset=ds)"
   ]
  },
  {
   "cell_type": "markdown",
   "metadata": {},
   "source": [
    "Also, using the `yaml` package to load yaml format configuration and run is availble in qlib."
   ]
  },
  {
   "cell_type": "markdown",
   "metadata": {},
   "source": [
    "## Recorder"
   ]
  },
  {
   "cell_type": "markdown",
   "metadata": {},
   "source": [
    "Recorder serves as a machine learning process keeper. We can save some middle results or the uncompleted models to disk. When we set `resume` parameter to `True`, the training process will start where the last time ends.\n",
    "\n",
    "There three typical recorder in qlib:\n",
    "\n",
    "1. SignalRecord, for test data, generate predict value with trained model\n",
    "2. SigAnaRecord, analyze generated predict value, calculating IC, IR etc.\n",
    "3. PortAnaRecord, backtest predict factor value, to see the backtest performance\n",
    "\n",
    "Normally for a machine learning training task, we need to perform a series of experiments and find the best result. Qlib provide us a `Recorder` class that can record every experiments we have already performed. And for each experiments, we can set different recorder to record the different parameter or result.\n",
    "\n",
    "To begin with, initialize the qlib and import the `R` instance from `qlib.workflow`."
   ]
  },
  {
   "cell_type": "code",
   "execution_count": null,
   "metadata": {},
   "outputs": [],
   "source": [
    "import qlib\n",
    "from qlib.workflow import R\n",
    "\n",
    "qlib.init(provider_uri='../data/qlib_day/')"
   ]
  },
  {
   "cell_type": "markdown",
   "metadata": {},
   "source": [
    "`R` instance provide us a easy to use interface that can record everthing into our disk. To begin with, we need to enter the environment that the recorder created. Use `R.start` as a context manager, so in the environment, R can log or save things."
   ]
  },
  {
   "cell_type": "code",
   "execution_count": null,
   "metadata": {},
   "outputs": [],
   "source": [
    "with R.start(experiment_name='4', uri='./experiments/'):\n",
    "    # purely text in `<uri>/<experiment_id>/<recorder_id>/params` directory\n",
    "    R.log_params(some_dummy_params = {\n",
    "        \"foo\": 1,\n",
    "        \"bar\": 2,\n",
    "        \"somestr\": \"foobar\",\n",
    "        \"floatnum\": 3.1415926,\n",
    "        \"somebool\": True\n",
    "    })\n",
    "    # in `<uri>/<experiment_id>/<recorder_id>/artifacts/[<artifact_path>]` directory\n",
    "    R.save_objects(**{\n",
    "        \"test_save\": \"someobjects\"\n",
    "    }, artifact_path='test_artifact')\n",
    "    for step in range(10):\n",
    "        R.log_metrics(step=step, **{\n",
    "            \"test_metric_1\": 0.618,\n",
    "            \"test_metric_2\": 2.71828,\n",
    "        })\n",
    "    rec = R.get_recorder()"
   ]
  },
  {
   "cell_type": "markdown",
   "metadata": {},
   "source": [
    "After saving, we need to load objects or things for later analysis or caculation. You can also get the current record from R and read."
   ]
  },
  {
   "cell_type": "code",
   "execution_count": null,
   "metadata": {},
   "outputs": [],
   "source": [
    "# remind we have set the parameter `artifact_path` in save_object \n",
    "# so in loading process we need to add before the actual file\n",
    "rec.load_object('test_artifact/test_save')\n",
    "rec.list_params()\n",
    "rec.list_metrics()"
   ]
  },
  {
   "cell_type": "markdown",
   "metadata": {},
   "source": [
    "## Strategy"
   ]
  },
  {
   "cell_type": "markdown",
   "metadata": {},
   "source": [
    "User can define their own strategy class in qlib with inheriting `BaseStrategy`, the core logic should be in `generate_trade_decision` fucntion. This is just like `handle_data` function in zipline framework.\n",
    "\n",
    "There are 3 key parameters in class `BaseStrategy` initialization:\n",
    "\n",
    "1. level_infra: level infrastructure, some common components, like trading calendar\n",
    "2. common_infra: common infrastructure, some common components, like trade_positions, exchange market\n",
    "3. trade_exchange: when set, use this to represent exchange_market, else turn to find exchange parameter in `common_infra`\n",
    "\n",
    "The core process of backtest strategy in qlib starts with `get_signal`, and then, your strategy class will generate trade decision by `generate_trade_decision` function, the decision results will by passed to Executor, which is a class connecting strategy and the exchange market. Once the decision is passed, the order will by delivered from executor to exchange, it will generate a `execu_result` from exchange market. Moreover, the result will be returned to the strategy itself."
   ]
  },
  {
   "cell_type": "code",
   "execution_count": 6,
   "metadata": {},
   "outputs": [
    {
     "data": {
      "image/svg+xml": "<svg xmlns=\"http://www.w3.org/2000/svg\" xmlns:xlink=\"http://www.w3.org/1999/xlink\" version=\"1.1\" width=\"701px\" height=\"802px\" viewBox=\"-0.5 -0.5 701 802\" content=\"&lt;mxfile&gt;&lt;diagram id=&quot;oGoolqYmk7a7VnB3tGOm&quot; name=&quot;Page-1&quot;&gt;zZpdb+MoFIZ/TS43sgF/3abpzqy0K+2qlfayojZjo3HAIqRJ+usXxzj+wO2k3WKciyQ+AWxeHo5fcFbwbnf6JnBV/MUzUq6Al51WcLsCwA+SSH3UkbOO+J7fRHJBMx3rAg/0leigp6MHmpH9oKDkvJS0GgZTzhhJ5SCGheDHYbEfvByetcI5MQIPKS7N6L80k0UTjUHUxb8Tmhftmf0waX7Z4baw7sm+wBk/9kLwfgXvBOey+bY73ZGyVq/Vpan3+xu/Xi9MECZvqaCv6wWXB92371zQV84kros9CkLUx5/4zA9SX7E8tzLsj3RXYqaONnuJhdQDpU4JN0XXDNzWgbSgZaYbglupGm4PemUv54NbXwUF2dNX/Hw516V+XYAyIh7PFdEtqLC+fiIkOb2pgX9VVjFJ+I5IcVZFdIUQNTVaGuOgOT52Qxt5eryK3rDGbRBrnPJr053i6osW/Y0R84wR+KekzyryIAWWJKcK9LHwx4JK8lDhtD4+qklWiyh3pZbuJk2SdzVB3kATFHmGJv6UJugrJPENSTZ4T7QeZwdq+MlQjms3+3IAW3IAQw5DApKp/KQPSfnMj/ddYHMJqB/6U7IvkOAHlpFMz7Om7brB98VS5+cHkY4ys0oDOZH9cTRFFaTEkr4M2/8/CoFFKNTvOoATEt2O3c0K6ap/c6pavOIKR7P3Nx8gfw2GzTSXpmuOtL5eym3yQ0P+SvBKTTgXcxWGw85f09QccxWgxZEYmCS2A2afxMAfkwiBTRIDQ/6SvJDyibIfAjuAMYCjG8ecLIaLYzFyySIMDBY9myxGhvwp3+04WwyM82bGeHE0TtgYlzT6sU0azYWestMZeSKntMBMybQAHuMZeYTmIsMxj7C9ACee8Sp+y2Ni0zK2fe2pr2oXPHOA4dgwwlkxNB2LawxDE8N2uFykRQ8m68QeiKZJavJivdnHMiwWkBdBOCeQpm1xDWTsEsgAjPNiaA9G0yM1MFZ8TyXlbAEwwjm3vqDpWhzD2PZqITCGocWbdNvXJXtGNOeKGi3OM6IJz+gSRxSukde9Ri1+IZqmf8wJI/UDgqfFMRpMrbMDW4yam7HvMsr45fmdoYCB3a92+xH6euxu7rS57Xp5YkRzhkunz43AOum94nAIxtRKw9ZTNfRBY3czGAMIJryaDTDeWMNGaO37UYgiL4hjZVXAMD1BFK1BLz15gbX8ZDo5l49EVFrud9tzieEHLd2nMAwmXFo7JDOsYSEc6BvPRV1gGrb9JQU6YA4ly2Eu+KBv+xxzE1asvU/OkPpavMebWBYoM73X5kBLSdmC/qERTXkua3zZ8lwDvpDJVzsUc/CF1iAOIh817+MU59vDzfR2j7z6uVW3U36QDpH7xV01nNq1s0bgB7eRP0fgxM7wfARC8+mlPebMXeF7ppaTKcn+UAv0E2W5S/BCMADPH2a+qQ26L+JOHXZ/TW107f7hC+//Aw==&lt;/diagram&gt;&lt;/mxfile&gt;\"><defs/><g><path d=\"M 20 0 L 0 0 L 0 800 L 20 800\" fill=\"rgb(255, 255, 255)\" stroke=\"rgb(0, 0, 0)\" stroke-miterlimit=\"10\" pointer-events=\"all\"/><path d=\"M 20 0 L 700 0 L 700 800 L 20 800\" fill=\"none\" stroke=\"rgb(0, 0, 0)\" stroke-miterlimit=\"10\" pointer-events=\"none\"/><path d=\"M 20 0 L 20 800\" fill=\"none\" stroke=\"rgb(0, 0, 0)\" stroke-miterlimit=\"10\" pointer-events=\"none\"/><g fill=\"rgb(0, 0, 0)\" font-family=\"Helvetica\" font-weight=\"bold\" pointer-events=\"none\" text-anchor=\"middle\" font-size=\"12px\" transform=\"rotate(-90,10,400)\"><text x=\"9.5\" y=\"404.5\">Horizontal Tree Layout</text></g><rect x=\"40\" y=\"470\" width=\"100\" height=\"40\" fill=\"rgb(255, 255, 255)\" stroke=\"rgb(0, 0, 0)\" pointer-events=\"none\"/><g transform=\"translate(-0.5 -0.5)\"><switch><foreignObject pointer-events=\"none\" width=\"100%\" height=\"100%\" requiredFeatures=\"http://www.w3.org/TR/SVG11/feature#Extensibility\" style=\"overflow: visible; text-align: left;\"><div xmlns=\"http://www.w3.org/1999/xhtml\" style=\"display: flex; align-items: unsafe center; justify-content: unsafe center; width: 98px; height: 1px; padding-top: 490px; margin-left: 41px;\"><div data-drawio-colors=\"color: rgb(0, 0, 0); \" style=\"box-sizing: border-box; font-size: 0px; text-align: center;\"><div style=\"display: inline-block; font-size: 12px; font-family: Helvetica; color: rgb(0, 0, 0); line-height: 1.2; pointer-events: none; white-space: normal; overflow-wrap: normal;\">Qlib Strategies</div></div></div></foreignObject><text x=\"90\" y=\"494\" fill=\"rgb(0, 0, 0)\" font-family=\"Helvetica\" font-size=\"12px\" text-anchor=\"middle\">Qlib Strategies</text></switch></g><rect x=\"190\" y=\"240\" width=\"120\" height=\"40\" fill=\"rgb(255, 255, 255)\" stroke=\"rgb(0, 0, 0)\" pointer-events=\"none\"/><g transform=\"translate(-0.5 -0.5)\"><switch><foreignObject pointer-events=\"none\" width=\"100%\" height=\"100%\" requiredFeatures=\"http://www.w3.org/TR/SVG11/feature#Extensibility\" style=\"overflow: visible; text-align: left;\"><div xmlns=\"http://www.w3.org/1999/xhtml\" style=\"display: flex; align-items: unsafe center; justify-content: unsafe center; width: 118px; height: 1px; padding-top: 260px; margin-left: 191px;\"><div data-drawio-colors=\"color: rgb(0, 0, 0); \" style=\"box-sizing: border-box; font-size: 0px; text-align: center;\"><div style=\"display: inline-block; font-size: 12px; font-family: Helvetica; color: rgb(0, 0, 0); line-height: 1.2; pointer-events: none; white-space: normal; overflow-wrap: normal;\">BaseStrategy</div></div></div></foreignObject><text x=\"250\" y=\"264\" fill=\"rgb(0, 0, 0)\" font-family=\"Helvetica\" font-size=\"12px\" text-anchor=\"middle\">BaseStrategy</text></switch></g><path d=\"M 140 490 L 164.71 490 L 164.71 260 L 183.63 260\" fill=\"none\" stroke=\"rgb(0, 0, 0)\" stroke-miterlimit=\"10\" pointer-events=\"none\"/><path d=\"M 188.88 260 L 181.88 263.5 L 183.63 260 L 181.88 256.5 Z\" fill=\"rgb(0, 0, 0)\" stroke=\"rgb(0, 0, 0)\" stroke-miterlimit=\"10\" pointer-events=\"none\"/><path d=\"M 310 260 L 334.71 260 L 334.71 120 L 353.63 120\" fill=\"none\" stroke=\"rgb(0, 0, 0)\" stroke-miterlimit=\"10\" pointer-events=\"none\"/><path d=\"M 358.88 120 L 351.88 123.5 L 353.63 120 L 351.88 116.5 Z\" fill=\"rgb(0, 0, 0)\" stroke=\"rgb(0, 0, 0)\" stroke-miterlimit=\"10\" pointer-events=\"none\"/><rect x=\"360\" y=\"100\" width=\"120\" height=\"40\" fill=\"rgb(255, 255, 255)\" stroke=\"rgb(0, 0, 0)\" pointer-events=\"none\"/><g transform=\"translate(-0.5 -0.5)\"><switch><foreignObject pointer-events=\"none\" width=\"100%\" height=\"100%\" requiredFeatures=\"http://www.w3.org/TR/SVG11/feature#Extensibility\" style=\"overflow: visible; text-align: left;\"><div xmlns=\"http://www.w3.org/1999/xhtml\" style=\"display: flex; align-items: unsafe center; justify-content: unsafe center; width: 118px; height: 1px; padding-top: 120px; margin-left: 361px;\"><div data-drawio-colors=\"color: rgb(0, 0, 0); \" style=\"box-sizing: border-box; font-size: 0px; text-align: center;\"><div style=\"display: inline-block; font-size: 12px; font-family: Helvetica; color: rgb(0, 0, 0); line-height: 1.2; pointer-events: none; white-space: normal; overflow-wrap: normal;\">property</div></div></div></foreignObject><text x=\"420\" y=\"124\" fill=\"rgb(0, 0, 0)\" font-family=\"Helvetica\" font-size=\"12px\" text-anchor=\"middle\">property</text></switch></g><path d=\"M 480 120 L 504.71 120 L 504.71 40 L 523.63 40\" fill=\"none\" stroke=\"rgb(0, 0, 0)\" stroke-miterlimit=\"10\" pointer-events=\"none\"/><path d=\"M 528.88 40 L 521.88 43.5 L 523.63 40 L 521.88 36.5 Z\" fill=\"rgb(0, 0, 0)\" stroke=\"rgb(0, 0, 0)\" stroke-miterlimit=\"10\" pointer-events=\"none\"/><rect x=\"530\" y=\"20\" width=\"120\" height=\"40\" fill=\"rgb(255, 255, 255)\" stroke=\"rgb(0, 0, 0)\" pointer-events=\"none\"/><g transform=\"translate(-0.5 -0.5)\"><switch><foreignObject pointer-events=\"none\" width=\"100%\" height=\"100%\" requiredFeatures=\"http://www.w3.org/TR/SVG11/feature#Extensibility\" style=\"overflow: visible; text-align: left;\"><div xmlns=\"http://www.w3.org/1999/xhtml\" style=\"display: flex; align-items: unsafe center; justify-content: unsafe center; width: 118px; height: 1px; padding-top: 40px; margin-left: 531px;\"><div data-drawio-colors=\"color: rgb(0, 0, 0); \" style=\"box-sizing: border-box; font-size: 0px; text-align: center;\"><div style=\"display: inline-block; font-size: 12px; font-family: Helvetica; color: rgb(0, 0, 0); line-height: 1.2; pointer-events: none; white-space: normal; overflow-wrap: normal;\">level_infra</div></div></div></foreignObject><text x=\"590\" y=\"44\" fill=\"rgb(0, 0, 0)\" font-family=\"Helvetica\" font-size=\"12px\" text-anchor=\"middle\">level_infra</text></switch></g><path d=\"M 480 120 L 504.71 120 L 523.63 120\" fill=\"none\" stroke=\"rgb(0, 0, 0)\" stroke-miterlimit=\"10\" pointer-events=\"none\"/><path d=\"M 528.88 120 L 521.88 123.5 L 523.63 120 L 521.88 116.5 Z\" fill=\"rgb(0, 0, 0)\" stroke=\"rgb(0, 0, 0)\" stroke-miterlimit=\"10\" pointer-events=\"none\"/><rect x=\"530\" y=\"100\" width=\"120\" height=\"40\" fill=\"rgb(255, 255, 255)\" stroke=\"rgb(0, 0, 0)\" pointer-events=\"none\"/><g transform=\"translate(-0.5 -0.5)\"><switch><foreignObject pointer-events=\"none\" width=\"100%\" height=\"100%\" requiredFeatures=\"http://www.w3.org/TR/SVG11/feature#Extensibility\" style=\"overflow: visible; text-align: left;\"><div xmlns=\"http://www.w3.org/1999/xhtml\" style=\"display: flex; align-items: unsafe center; justify-content: unsafe center; width: 118px; height: 1px; padding-top: 120px; margin-left: 531px;\"><div data-drawio-colors=\"color: rgb(0, 0, 0); \" style=\"box-sizing: border-box; font-size: 0px; text-align: center;\"><div style=\"display: inline-block; font-size: 12px; font-family: Helvetica; color: rgb(0, 0, 0); line-height: 1.2; pointer-events: none; white-space: normal; overflow-wrap: normal;\">common_infra</div></div></div></foreignObject><text x=\"590\" y=\"124\" fill=\"rgb(0, 0, 0)\" font-family=\"Helvetica\" font-size=\"12px\" text-anchor=\"middle\">common_infra</text></switch></g><path d=\"M 480 120 L 504.71 120 L 504.71 200 L 523.63 200\" fill=\"none\" stroke=\"rgb(0, 0, 0)\" stroke-miterlimit=\"10\" pointer-events=\"none\"/><path d=\"M 528.88 200 L 521.88 203.5 L 523.63 200 L 521.88 196.5 Z\" fill=\"rgb(0, 0, 0)\" stroke=\"rgb(0, 0, 0)\" stroke-miterlimit=\"10\" pointer-events=\"none\"/><rect x=\"530\" y=\"180\" width=\"120\" height=\"40\" fill=\"rgb(255, 255, 255)\" stroke=\"rgb(0, 0, 0)\" pointer-events=\"none\"/><g transform=\"translate(-0.5 -0.5)\"><switch><foreignObject pointer-events=\"none\" width=\"100%\" height=\"100%\" requiredFeatures=\"http://www.w3.org/TR/SVG11/feature#Extensibility\" style=\"overflow: visible; text-align: left;\"><div xmlns=\"http://www.w3.org/1999/xhtml\" style=\"display: flex; align-items: unsafe center; justify-content: unsafe center; width: 118px; height: 1px; padding-top: 200px; margin-left: 531px;\"><div data-drawio-colors=\"color: rgb(0, 0, 0); \" style=\"box-sizing: border-box; font-size: 0px; text-align: center;\"><div style=\"display: inline-block; font-size: 12px; font-family: Helvetica; color: rgb(0, 0, 0); line-height: 1.2; pointer-events: none; white-space: normal; overflow-wrap: normal;\">trade_exchange</div></div></div></foreignObject><text x=\"590\" y=\"204\" fill=\"rgb(0, 0, 0)\" font-family=\"Helvetica\" font-size=\"12px\" text-anchor=\"middle\">trade_exchange</text></switch></g><path d=\"M 310 260 L 334.71 260 L 334.71 400 L 353.63 400\" fill=\"none\" stroke=\"rgb(0, 0, 0)\" stroke-miterlimit=\"10\" pointer-events=\"none\"/><path d=\"M 358.88 400 L 351.88 403.5 L 353.63 400 L 351.88 396.5 Z\" fill=\"rgb(0, 0, 0)\" stroke=\"rgb(0, 0, 0)\" stroke-miterlimit=\"10\" pointer-events=\"none\"/><rect x=\"360\" y=\"380\" width=\"120\" height=\"40\" fill=\"rgb(255, 255, 255)\" stroke=\"rgb(0, 0, 0)\" pointer-events=\"none\"/><g transform=\"translate(-0.5 -0.5)\"><switch><foreignObject pointer-events=\"none\" width=\"100%\" height=\"100%\" requiredFeatures=\"http://www.w3.org/TR/SVG11/feature#Extensibility\" style=\"overflow: visible; text-align: left;\"><div xmlns=\"http://www.w3.org/1999/xhtml\" style=\"display: flex; align-items: unsafe center; justify-content: unsafe center; width: 118px; height: 1px; padding-top: 400px; margin-left: 361px;\"><div data-drawio-colors=\"color: rgb(0, 0, 0); \" style=\"box-sizing: border-box; font-size: 0px; text-align: center;\"><div style=\"display: inline-block; font-size: 12px; font-family: Helvetica; color: rgb(0, 0, 0); line-height: 1.2; pointer-events: none; white-space: normal; overflow-wrap: normal;\">method</div></div></div></foreignObject><text x=\"420\" y=\"404\" fill=\"rgb(0, 0, 0)\" font-family=\"Helvetica\" font-size=\"12px\" text-anchor=\"middle\">method</text></switch></g><path d=\"M 480 400 L 504.71 400 L 504.71 280 L 523.63 280\" fill=\"none\" stroke=\"rgb(0, 0, 0)\" stroke-miterlimit=\"10\" pointer-events=\"none\"/><path d=\"M 528.88 280 L 521.88 283.5 L 523.63 280 L 521.88 276.5 Z\" fill=\"rgb(0, 0, 0)\" stroke=\"rgb(0, 0, 0)\" stroke-miterlimit=\"10\" pointer-events=\"none\"/><rect x=\"530\" y=\"260\" width=\"120\" height=\"40\" fill=\"rgb(255, 255, 255)\" stroke=\"rgb(0, 0, 0)\" pointer-events=\"none\"/><g transform=\"translate(-0.5 -0.5)\"><switch><foreignObject pointer-events=\"none\" width=\"100%\" height=\"100%\" requiredFeatures=\"http://www.w3.org/TR/SVG11/feature#Extensibility\" style=\"overflow: visible; text-align: left;\"><div xmlns=\"http://www.w3.org/1999/xhtml\" style=\"display: flex; align-items: unsafe center; justify-content: unsafe center; width: 118px; height: 1px; padding-top: 280px; margin-left: 531px;\"><div data-drawio-colors=\"color: rgb(0, 0, 0); \" style=\"box-sizing: border-box; font-size: 0px; text-align: center;\"><div style=\"display: inline-block; font-size: 12px; font-family: Helvetica; color: rgb(0, 0, 0); line-height: 1.2; pointer-events: none; white-space: normal; overflow-wrap: normal;\">trade_calendar</div></div></div></foreignObject><text x=\"590\" y=\"284\" fill=\"rgb(0, 0, 0)\" font-family=\"Helvetica\" font-size=\"12px\" text-anchor=\"middle\">trade_calendar</text></switch></g><path d=\"M 480 400 L 504.71 400 L 504.71 360 L 523.63 360\" fill=\"none\" stroke=\"rgb(0, 0, 0)\" stroke-miterlimit=\"10\" pointer-events=\"none\"/><path d=\"M 528.88 360 L 521.88 363.5 L 523.63 360 L 521.88 356.5 Z\" fill=\"rgb(0, 0, 0)\" stroke=\"rgb(0, 0, 0)\" stroke-miterlimit=\"10\" pointer-events=\"none\"/><rect x=\"530\" y=\"340\" width=\"120\" height=\"40\" fill=\"rgb(255, 255, 255)\" stroke=\"rgb(0, 0, 0)\" pointer-events=\"none\"/><g transform=\"translate(-0.5 -0.5)\"><switch><foreignObject pointer-events=\"none\" width=\"100%\" height=\"100%\" requiredFeatures=\"http://www.w3.org/TR/SVG11/feature#Extensibility\" style=\"overflow: visible; text-align: left;\"><div xmlns=\"http://www.w3.org/1999/xhtml\" style=\"display: flex; align-items: unsafe center; justify-content: unsafe center; width: 118px; height: 1px; padding-top: 360px; margin-left: 531px;\"><div data-drawio-colors=\"color: rgb(0, 0, 0); \" style=\"box-sizing: border-box; font-size: 0px; text-align: center;\"><div style=\"display: inline-block; font-size: 12px; font-family: Helvetica; color: rgb(0, 0, 0); line-height: 1.2; pointer-events: none; white-space: normal; overflow-wrap: normal;\">trade_position</div></div></div></foreignObject><text x=\"590\" y=\"364\" fill=\"rgb(0, 0, 0)\" font-family=\"Helvetica\" font-size=\"12px\" text-anchor=\"middle\">trade_position</text></switch></g><path d=\"M 480 400 L 504.71 400 L 504.71 440 L 523.63 440\" fill=\"none\" stroke=\"rgb(0, 0, 0)\" stroke-miterlimit=\"10\" pointer-events=\"none\"/><path d=\"M 528.88 440 L 521.88 443.5 L 523.63 440 L 521.88 436.5 Z\" fill=\"rgb(0, 0, 0)\" stroke=\"rgb(0, 0, 0)\" stroke-miterlimit=\"10\" pointer-events=\"none\"/><rect x=\"530\" y=\"420\" width=\"120\" height=\"40\" fill=\"rgb(255, 255, 255)\" stroke=\"rgb(0, 0, 0)\" pointer-events=\"none\"/><g transform=\"translate(-0.5 -0.5)\"><switch><foreignObject pointer-events=\"none\" width=\"100%\" height=\"100%\" requiredFeatures=\"http://www.w3.org/TR/SVG11/feature#Extensibility\" style=\"overflow: visible; text-align: left;\"><div xmlns=\"http://www.w3.org/1999/xhtml\" style=\"display: flex; align-items: unsafe center; justify-content: unsafe center; width: 118px; height: 1px; padding-top: 440px; margin-left: 531px;\"><div data-drawio-colors=\"color: rgb(0, 0, 0); \" style=\"box-sizing: border-box; font-size: 0px; text-align: center;\"><div style=\"display: inline-block; font-size: 12px; font-family: Helvetica; color: rgb(0, 0, 0); line-height: 1.2; pointer-events: none; white-space: normal; overflow-wrap: normal;\">trade_exchange</div></div></div></foreignObject><text x=\"590\" y=\"444\" fill=\"rgb(0, 0, 0)\" font-family=\"Helvetica\" font-size=\"12px\" text-anchor=\"middle\">trade_exchange</text></switch></g><path d=\"M 480 400 L 504.71 400 L 504.71 520 L 523.63 520\" fill=\"none\" stroke=\"rgb(0, 0, 0)\" stroke-miterlimit=\"10\" pointer-events=\"none\"/><path d=\"M 528.88 520 L 521.88 523.5 L 523.63 520 L 521.88 516.5 Z\" fill=\"rgb(0, 0, 0)\" stroke=\"rgb(0, 0, 0)\" stroke-miterlimit=\"10\" pointer-events=\"none\"/><rect x=\"530\" y=\"500\" width=\"150\" height=\"40\" fill=\"rgb(255, 255, 255)\" stroke=\"rgb(0, 0, 0)\" pointer-events=\"none\"/><g transform=\"translate(-0.5 -0.5)\"><switch><foreignObject pointer-events=\"none\" width=\"100%\" height=\"100%\" requiredFeatures=\"http://www.w3.org/TR/SVG11/feature#Extensibility\" style=\"overflow: visible; text-align: left;\"><div xmlns=\"http://www.w3.org/1999/xhtml\" style=\"display: flex; align-items: unsafe center; justify-content: unsafe center; width: 148px; height: 1px; padding-top: 520px; margin-left: 531px;\"><div data-drawio-colors=\"color: rgb(0, 0, 0); \" style=\"box-sizing: border-box; font-size: 0px; text-align: center;\"><div style=\"display: inline-block; font-size: 12px; font-family: Helvetica; color: rgb(0, 0, 0); line-height: 1.2; pointer-events: none; white-space: normal; overflow-wrap: normal;\">generate_trade_exchange</div></div></div></foreignObject><text x=\"605\" y=\"524\" fill=\"rgb(0, 0, 0)\" font-family=\"Helvetica\" font-size=\"12px\" text-anchor=\"middle\">generate_trade_exchange</text></switch></g><path d=\"M 117.82 510 L 210.01 576.28\" fill=\"none\" stroke=\"rgb(0, 0, 0)\" stroke-miterlimit=\"10\" pointer-events=\"none\"/><path d=\"M 214.27 579.35 L 206.55 578.1 L 210.01 576.28 L 210.63 572.42 Z\" fill=\"rgb(0, 0, 0)\" stroke=\"rgb(0, 0, 0)\" stroke-miterlimit=\"10\" pointer-events=\"none\"/><rect x=\"193\" y=\"580\" width=\"100\" height=\"40\" fill=\"rgb(255, 255, 255)\" stroke=\"rgb(0, 0, 0)\" pointer-events=\"none\"/><g transform=\"translate(-0.5 -0.5)\"><switch><foreignObject pointer-events=\"none\" width=\"100%\" height=\"100%\" requiredFeatures=\"http://www.w3.org/TR/SVG11/feature#Extensibility\" style=\"overflow: visible; text-align: left;\"><div xmlns=\"http://www.w3.org/1999/xhtml\" style=\"display: flex; align-items: unsafe center; justify-content: unsafe center; width: 98px; height: 1px; padding-top: 600px; margin-left: 194px;\"><div data-drawio-colors=\"color: rgb(0, 0, 0); \" style=\"box-sizing: border-box; font-size: 0px; text-align: center;\"><div style=\"display: inline-block; font-size: 12px; font-family: Helvetica; color: rgb(0, 0, 0); line-height: 1.2; pointer-events: none; white-space: normal; overflow-wrap: normal;\">BaseSignalStrategy</div></div></div></foreignObject><text x=\"243\" y=\"604\" fill=\"rgb(0, 0, 0)\" font-family=\"Helvetica\" font-size=\"12px\" text-anchor=\"middle\">BaseSignalStrategy</text></switch></g><path d=\"M 293 600 L 339.63 600\" fill=\"none\" stroke=\"rgb(0, 0, 0)\" stroke-miterlimit=\"10\" pointer-events=\"none\"/><path d=\"M 344.88 600 L 337.88 603.5 L 339.63 600 L 337.88 596.5 Z\" fill=\"rgb(0, 0, 0)\" stroke=\"rgb(0, 0, 0)\" stroke-miterlimit=\"10\" pointer-events=\"none\"/><rect x=\"346\" y=\"580\" width=\"100\" height=\"40\" fill=\"rgb(255, 255, 255)\" stroke=\"rgb(0, 0, 0)\" pointer-events=\"none\"/><g transform=\"translate(-0.5 -0.5)\"><switch><foreignObject pointer-events=\"none\" width=\"100%\" height=\"100%\" requiredFeatures=\"http://www.w3.org/TR/SVG11/feature#Extensibility\" style=\"overflow: visible; text-align: left;\"><div xmlns=\"http://www.w3.org/1999/xhtml\" style=\"display: flex; align-items: unsafe center; justify-content: unsafe center; width: 98px; height: 1px; padding-top: 600px; margin-left: 347px;\"><div data-drawio-colors=\"color: rgb(0, 0, 0); \" style=\"box-sizing: border-box; font-size: 0px; text-align: center;\"><div style=\"display: inline-block; font-size: 12px; font-family: Helvetica; color: rgb(0, 0, 0); line-height: 1.2; pointer-events: none; white-space: normal; overflow-wrap: normal;\">property</div></div></div></foreignObject><text x=\"396\" y=\"604\" fill=\"rgb(0, 0, 0)\" font-family=\"Helvetica\" font-size=\"12px\" text-anchor=\"middle\">property</text></switch></g><path d=\"M 446 600 L 489.63 600\" fill=\"none\" stroke=\"rgb(0, 0, 0)\" stroke-miterlimit=\"10\" pointer-events=\"none\"/><path d=\"M 494.88 600 L 487.88 603.5 L 489.63 600 L 487.88 596.5 Z\" fill=\"rgb(0, 0, 0)\" stroke=\"rgb(0, 0, 0)\" stroke-miterlimit=\"10\" pointer-events=\"none\"/><rect x=\"496\" y=\"580\" width=\"100\" height=\"40\" fill=\"rgb(255, 255, 255)\" stroke=\"rgb(0, 0, 0)\" pointer-events=\"none\"/><g transform=\"translate(-0.5 -0.5)\"><switch><foreignObject pointer-events=\"none\" width=\"100%\" height=\"100%\" requiredFeatures=\"http://www.w3.org/TR/SVG11/feature#Extensibility\" style=\"overflow: visible; text-align: left;\"><div xmlns=\"http://www.w3.org/1999/xhtml\" style=\"display: flex; align-items: unsafe center; justify-content: unsafe center; width: 98px; height: 1px; padding-top: 600px; margin-left: 497px;\"><div data-drawio-colors=\"color: rgb(0, 0, 0); \" style=\"box-sizing: border-box; font-size: 0px; text-align: center;\"><div style=\"display: inline-block; font-size: 12px; font-family: Helvetica; color: rgb(0, 0, 0); line-height: 1.2; pointer-events: none; white-space: normal; overflow-wrap: normal;\">signal</div></div></div></foreignObject><text x=\"546\" y=\"604\" fill=\"rgb(0, 0, 0)\" font-family=\"Helvetica\" font-size=\"12px\" text-anchor=\"middle\">signal</text></switch></g><path d=\"M 103.04 510 L 223.48 694.67\" fill=\"none\" stroke=\"rgb(0, 0, 0)\" stroke-miterlimit=\"10\" pointer-events=\"none\"/><path d=\"M 226.35 699.06 L 219.59 695.11 L 223.48 694.67 L 225.45 691.29 Z\" fill=\"rgb(0, 0, 0)\" stroke=\"rgb(0, 0, 0)\" stroke-miterlimit=\"10\" pointer-events=\"none\"/><rect x=\"190\" y=\"700\" width=\"100\" height=\"40\" fill=\"rgb(255, 255, 255)\" stroke=\"rgb(0, 0, 0)\" pointer-events=\"none\"/><g transform=\"translate(-0.5 -0.5)\"><switch><foreignObject pointer-events=\"none\" width=\"100%\" height=\"100%\" requiredFeatures=\"http://www.w3.org/TR/SVG11/feature#Extensibility\" style=\"overflow: visible; text-align: left;\"><div xmlns=\"http://www.w3.org/1999/xhtml\" style=\"display: flex; align-items: unsafe center; justify-content: unsafe center; width: 98px; height: 1px; padding-top: 720px; margin-left: 191px;\"><div data-drawio-colors=\"color: rgb(0, 0, 0); \" style=\"box-sizing: border-box; font-size: 0px; text-align: center;\"><div style=\"display: inline-block; font-size: 12px; font-family: Helvetica; color: rgb(0, 0, 0); line-height: 1.2; pointer-events: none; white-space: normal; overflow-wrap: normal;\">BuiltinStrategy</div></div></div></foreignObject><text x=\"240\" y=\"724\" fill=\"rgb(0, 0, 0)\" font-family=\"Helvetica\" font-size=\"12px\" text-anchor=\"middle\">BuiltinStrategy</text></switch></g><path d=\"M 290 707.18 L 339.83 694.4\" fill=\"none\" stroke=\"rgb(0, 0, 0)\" stroke-miterlimit=\"10\" pointer-events=\"none\"/><path d=\"M 344.92 693.1 L 339.01 698.23 L 339.83 694.4 L 337.27 691.45 Z\" fill=\"rgb(0, 0, 0)\" stroke=\"rgb(0, 0, 0)\" stroke-miterlimit=\"10\" pointer-events=\"none\"/><rect x=\"346\" y=\"660\" width=\"100\" height=\"40\" fill=\"rgb(255, 255, 255)\" stroke=\"rgb(0, 0, 0)\" pointer-events=\"none\"/><g transform=\"translate(-0.5 -0.5)\"><switch><foreignObject pointer-events=\"none\" width=\"100%\" height=\"100%\" requiredFeatures=\"http://www.w3.org/TR/SVG11/feature#Extensibility\" style=\"overflow: visible; text-align: left;\"><div xmlns=\"http://www.w3.org/1999/xhtml\" style=\"display: flex; align-items: unsafe center; justify-content: unsafe center; width: 98px; height: 1px; padding-top: 680px; margin-left: 347px;\"><div data-drawio-colors=\"color: rgb(0, 0, 0); \" style=\"box-sizing: border-box; font-size: 0px; text-align: center;\"><div style=\"display: inline-block; font-size: 12px; font-family: Helvetica; color: rgb(0, 0, 0); line-height: 1.2; pointer-events: none; white-space: normal; overflow-wrap: normal;\">TopkDropoutStrategy</div></div></div></foreignObject><text x=\"396\" y=\"684\" fill=\"rgb(0, 0, 0)\" font-family=\"Helvetica\" font-size=\"12px\" text-anchor=\"middle\">TopkDropoutStrate...</text></switch></g><path d=\"M 290 731.63 L 355.8 746.93\" fill=\"none\" stroke=\"rgb(0, 0, 0)\" stroke-miterlimit=\"10\" pointer-events=\"none\"/><path d=\"M 360.91 748.12 L 353.3 749.94 L 355.8 746.93 L 354.89 743.12 Z\" fill=\"rgb(0, 0, 0)\" stroke=\"rgb(0, 0, 0)\" stroke-miterlimit=\"10\" pointer-events=\"none\"/><rect x=\"362\" y=\"740\" width=\"100\" height=\"40\" fill=\"rgb(255, 255, 255)\" stroke=\"rgb(0, 0, 0)\" pointer-events=\"none\"/><g transform=\"translate(-0.5 -0.5)\"><switch><foreignObject pointer-events=\"none\" width=\"100%\" height=\"100%\" requiredFeatures=\"http://www.w3.org/TR/SVG11/feature#Extensibility\" style=\"overflow: visible; text-align: left;\"><div xmlns=\"http://www.w3.org/1999/xhtml\" style=\"display: flex; align-items: unsafe center; justify-content: unsafe center; width: 98px; height: 1px; padding-top: 760px; margin-left: 363px;\"><div data-drawio-colors=\"color: rgb(0, 0, 0); \" style=\"box-sizing: border-box; font-size: 0px; text-align: center;\"><div style=\"display: inline-block; font-size: 12px; font-family: Helvetica; color: rgb(0, 0, 0); line-height: 1.2; pointer-events: none; white-space: normal; overflow-wrap: normal;\">EnhancedIndexingStrategy</div></div></div></foreignObject><text x=\"412\" y=\"764\" fill=\"rgb(0, 0, 0)\" font-family=\"Helvetica\" font-size=\"12px\" text-anchor=\"middle\">EnhancedIndexingS...</text></switch></g></g><switch><g requiredFeatures=\"http://www.w3.org/TR/SVG11/feature#Extensibility\"/><a transform=\"translate(0,-5)\" xlink:href=\"https://www.diagrams.net/doc/faq/svg-export-text-problems\" target=\"_blank\"><text text-anchor=\"middle\" font-size=\"10px\" x=\"50%\" y=\"100%\">Viewer does not support full SVG 1.1</text></a></switch></svg>"
     },
     "metadata": {},
     "output_type": "display_data"
    }
   ],
   "source": [
    "from IPython.display import display_svg\n",
    "\n",
    "display_svg(open('../images/qlib_strategies.svg', 'r'), raw=True)"
   ]
  },
  {
   "cell_type": "markdown",
   "metadata": {},
   "source": [
    "### Index Enhancing Strategy"
   ]
  },
  {
   "cell_type": "markdown",
   "metadata": {},
   "source": [
    "Currently, the Index Enhancing Strategy isn't decoupled, it depends on the `qlib.data.D`, but just for query index weight usage. So, if we want to use the strategy now, we must construct our own database or use the database with qlib.\n",
    "\n",
    "The execution flow is shown as follows. To begin with, the index enhancing strategy is a weight based strategy, so it is the same with other WeightStrategy, the core interface is `generate_target_weight_position`, which returns the order list. It uses the `qlib.contrib.strategy.optimizer.enhanced_indexing.EnhancedIndexingOptimizer` as the internal optimizer. For each day bar, the steps are shown inthe graph."
   ]
  },
  {
   "cell_type": "code",
   "execution_count": 4,
   "metadata": {},
   "outputs": [
    {
     "data": {
      "image/svg+xml": "<svg xmlns=\"http://www.w3.org/2000/svg\" xmlns:xlink=\"http://www.w3.org/1999/xlink\" version=\"1.1\" width=\"611px\" height=\"621px\" viewBox=\"-0.5 -0.5 611 621\" content=\"&lt;mxfile&gt;&lt;diagram id=&quot;C03Q_TejMCGJm7Z_tvhU&quot; name=&quot;Page-1&quot;&gt;5VnbbuM2EP0aAclDBEqy7OQxvnRbYNtdwAts+2RQEm0ToUQtRfmyX9/hRTdLdmw0KdAG2Q3EIUXOnDM8IzJOMEsPnwTOt7/zhDDHR8nBCeaO74dBAL+V4WgMoyA0ho2giTF5jWFJfxJrRNZa0oQUnYGScyZp3jXGPMtILDs2LATfd4etOeuumuMN6RmWMWZ963eayK2xPvqTxv4roZtttbI3fjI9Ka4G2ymKLU743ph0cMHCCWaCc2me0sOMMIVdhYtB4JczvbVjgmTymhcq4HeYlTa4RbbFWUyS37KEHGi2WUqBJdkcrcPyWKFQ7GnKcAataX9Z68mOCEkOLZN14xPhKZECJkVVrzcyr9ic8CfWtX2D8BjZBNi20B3bEBG2rG7quZvA4cHGfgaH8as4fMklTSEVxW1A1Ai/joSNPES9wMOngcB99BaBT3qBLznbQbxgtCFjSXkGza+CR4ykTvDcgwBCA6+mW5nCQnMPHjGjmwyeY0ACMAumCgAKe+jZdqQ0SdTrU0EKWCPSUyFo55xmUocUTp1wruYqJS+MCqipCyn4C5lxxmHeecY18mvK2IlpgIzx1WRUWtVJyqBPjfc4SM0/Z2bSZ6YH+0bwMr8hzFoSLdwd1RkK/6GS3GO1A6/blN6bIIAGEBjpf6hwpav8cNRCY5zmwPdGpaAep1xC1dj/ZqrW9F+dqo+h63nBuPnp6ulA6g4x9ybEeReIK9O7/b2iB+yaK+8DcuV5yEXoLFmjAbL89yLLv0yWM5mpXfag3FkhaN239xxr9pwTzuA7T+KPSCdSdI7C5uc11Xy/shGcpxPIS+D/Gc2MVs5kmpCdM5l/WApbDHY/Rx//zR05ukjh7jyF65Xi76Mxd1lL6yrXps57J+qqg94QdSk+rJSSJkYr4wQOeT4SVlvBwnAaJdg8w4c3nHB9dLfrjI75bhV1LLrfn+o1xars9CVOuPDv60TJoiLXmH+Q/GgRPhq9117tE/7Hl28LfUZCzhgoUOKPqOIyIlm8TbF4UdSQHbXnqpkZKVojySGHj3SiMkUQWYpm1L41KudCrjmj3KiBLsUR5NNYK8LeRHpCPs4SM9GuNdEax5KLQa9UyR+OoJr/f59Gttc/OQo99e8ngqFjevAGWfbk9XAmyYYsbdNG2cIc4hTHPxWM7iSs2n+1O+cHC7JpHW1rzTNpL9y8x4sXGgUvRWydqeKWWGzIySFUOXoRX0EY5Nyue7c2hJZ+9VkIfGwNsDnSzPxVGRraRqOg+2lt/W+QNzM2PNSuXUdN//O5IGzt8rPXRQqQzzgi7P22yessPp27oLv5igC5zf3mbVQ2XFVD+HpdENnbGTcyMnRtYNWxEsfKoIDqsDP+UfKq48EojVJy7zE/NJ3VLBuSEXU5ujJ5vzKSuMpBooyImkXAYbNOd20wN/6oVU4V3FM3HGo/wcbaEgUvLXTtwPqQpe/kTAfDha73+HjXHRPjTMu2ehQEm5ISHZ3TE9wPRiM3Vff0rprAPIG6ljFUH5K4y/pxxneLAlIb64rR+QTtBeCrAMqCtPyURHtaxFyQ/gvBacRxKXTONuXm9JVR84quTq2h6C6lutxtiVoMzV2aqZhSM6OuaOBdYopdwetVi/rK2wzK9NfUumTsqItkzMuckeS+703o6gGMyCboiOH4hdFiwPmxqzlicamQad4wINVxlIW5jz0VFnR39pJ6wLeJWqwoo5Q2+HKREFH0JKolS0wp1dcqowfk6fPJgFqmKkFjZC0vydl+SyVZ5lgXk73AKqEKaEI43zg05r4SSi7oT9hEuPLrfGG6/qZ96GAeDJ3qgvD2Ig7N5u84RsaaP4YFi78B&lt;/diagram&gt;&lt;/mxfile&gt;\"><defs><style xmlns=\"http://www.w3.org/1999/xhtml\" type=\"text/css\">div.MathJax_SVG_Display { position: static; }\nspan.MathJax_SVG { position: static !important; }</style><style xmlns=\"http://www.w3.org/1999/xhtml\" type=\"text/css\">.MathJax_Hover_Frame {border-radius: .25em; -webkit-border-radius: .25em; -moz-border-radius: .25em; -khtml-border-radius: .25em; box-shadow: 0px 0px 15px #83A; -webkit-box-shadow: 0px 0px 15px #83A; -moz-box-shadow: 0px 0px 15px #83A; -khtml-box-shadow: 0px 0px 15px #83A; border: 1px solid #A6D ! important; display: inline-block; position: absolute}\n.MathJax_Menu_Button .MathJax_Hover_Arrow {position: absolute; cursor: pointer; display: inline-block; border: 2px solid #AAA; border-radius: 4px; -webkit-border-radius: 4px; -moz-border-radius: 4px; -khtml-border-radius: 4px; font-family: 'Courier New',Courier; font-size: 9px; color: #F0F0F0}\n.MathJax_Menu_Button .MathJax_Hover_Arrow span {display: block; background-color: #AAA; border: 1px solid; border-radius: 3px; line-height: 0; padding: 4px}\n.MathJax_Hover_Arrow:hover {color: white!important; border: 2px solid #CCC!important}\n.MathJax_Hover_Arrow:hover span {background-color: #CCC!important}\n</style><style xmlns=\"http://www.w3.org/1999/xhtml\" type=\"text/css\">#MathJax_About {position: fixed; left: 50%; width: auto; text-align: center; border: 3px outset; padding: 1em 2em; background-color: #DDDDDD; color: black; cursor: default; font-family: message-box; font-size: 120%; font-style: normal; text-indent: 0; text-transform: none; line-height: normal; letter-spacing: normal; word-spacing: normal; word-wrap: normal; white-space: nowrap; float: none; z-index: 201; border-radius: 15px; -webkit-border-radius: 15px; -moz-border-radius: 15px; -khtml-border-radius: 15px; box-shadow: 0px 10px 20px #808080; -webkit-box-shadow: 0px 10px 20px #808080; -moz-box-shadow: 0px 10px 20px #808080; -khtml-box-shadow: 0px 10px 20px #808080; filter: progid:DXImageTransform.Microsoft.dropshadow(OffX=2, OffY=2, Color='gray', Positive='true')}\n#MathJax_About.MathJax_MousePost {outline: none}\n.MathJax_Menu {position: absolute; background-color: white; color: black; width: auto; padding: 2px; border: 1px solid #CCCCCC; margin: 0; cursor: default; font: menu; text-align: left; text-indent: 0; text-transform: none; line-height: normal; letter-spacing: normal; word-spacing: normal; word-wrap: normal; white-space: nowrap; float: none; z-index: 201; box-shadow: 0px 10px 20px #808080; -webkit-box-shadow: 0px 10px 20px #808080; -moz-box-shadow: 0px 10px 20px #808080; -khtml-box-shadow: 0px 10px 20px #808080; filter: progid:DXImageTransform.Microsoft.dropshadow(OffX=2, OffY=2, Color='gray', Positive='true')}\n.MathJax_MenuItem {padding: 2px 2em; background: transparent}\n.MathJax_MenuArrow {position: absolute; right: .5em; padding-top: .25em; color: #666666; font-size: .75em}\n.MathJax_MenuActive .MathJax_MenuArrow {color: white}\n.MathJax_MenuArrow.RTL {left: .5em; right: auto}\n.MathJax_MenuCheck {position: absolute; left: .7em}\n.MathJax_MenuCheck.RTL {right: .7em; left: auto}\n.MathJax_MenuRadioCheck {position: absolute; left: 1em}\n.MathJax_MenuRadioCheck.RTL {right: 1em; left: auto}\n.MathJax_MenuLabel {padding: 2px 2em 4px 1.33em; font-style: italic}\n.MathJax_MenuRule {border-top: 1px solid #CCCCCC; margin: 4px 1px 0px}\n.MathJax_MenuDisabled {color: GrayText}\n.MathJax_MenuActive {background-color: Highlight; color: HighlightText}\n.MathJax_MenuDisabled:focus, .MathJax_MenuLabel:focus {background-color: #E8E8E8}\n.MathJax_ContextMenu:focus {outline: none}\n.MathJax_ContextMenu .MathJax_MenuItem:focus {outline: none}\n#MathJax_AboutClose {top: .2em; right: .2em}\n.MathJax_Menu .MathJax_MenuClose {top: -10px; left: -10px}\n.MathJax_MenuClose {position: absolute; cursor: pointer; display: inline-block; border: 2px solid #AAA; border-radius: 18px; -webkit-border-radius: 18px; -moz-border-radius: 18px; -khtml-border-radius: 18px; font-family: 'Courier New',Courier; font-size: 24px; color: #F0F0F0}\n.MathJax_MenuClose span {display: block; background-color: #AAA; border: 1.5px solid; border-radius: 18px; -webkit-border-radius: 18px; -moz-border-radius: 18px; -khtml-border-radius: 18px; line-height: 0; padding: 8px 0 6px}\n.MathJax_MenuClose:hover {color: white!important; border: 2px solid #CCC!important}\n.MathJax_MenuClose:hover span {background-color: #CCC!important}\n.MathJax_MenuClose:hover:focus {outline: none}\n</style><style xmlns=\"http://www.w3.org/1999/xhtml\" type=\"text/css\">.MathJax_Preview .MJXf-math {color: inherit!important}\n</style><style xmlns=\"http://www.w3.org/1999/xhtml\" type=\"text/css\">#MathJax_Zoom {position: absolute; background-color: #F0F0F0; overflow: auto; display: block; z-index: 301; padding: .5em; border: 1px solid black; margin: 0; font-weight: normal; font-style: normal; text-align: left; text-indent: 0; text-transform: none; line-height: normal; letter-spacing: normal; word-spacing: normal; word-wrap: normal; white-space: nowrap; float: none; -webkit-box-sizing: content-box; -moz-box-sizing: content-box; box-sizing: content-box; box-shadow: 5px 5px 15px #AAAAAA; -webkit-box-shadow: 5px 5px 15px #AAAAAA; -moz-box-shadow: 5px 5px 15px #AAAAAA; -khtml-box-shadow: 5px 5px 15px #AAAAAA; filter: progid:DXImageTransform.Microsoft.dropshadow(OffX=2, OffY=2, Color='gray', Positive='true')}\n#MathJax_ZoomOverlay {position: absolute; left: 0; top: 0; z-index: 300; display: inline-block; width: 100%; height: 100%; border: 0; padding: 0; margin: 0; background-color: white; opacity: 0; filter: alpha(opacity=0)}\n#MathJax_ZoomFrame {position: relative; display: inline-block; height: 0; width: 0}\n#MathJax_ZoomEventTrap {position: absolute; left: 0; top: 0; z-index: 302; display: inline-block; border: 0; padding: 0; margin: 0; background-color: white; opacity: 0; filter: alpha(opacity=0)}\n</style><style xmlns=\"http://www.w3.org/1999/xhtml\" type=\"text/css\">.MathJax_Preview {color: #888; display: contents}\n#MathJax_Message {position: fixed; left: 1px; bottom: 2px; background-color: #E6E6E6; border: 1px solid #959595; margin: 0px; padding: 2px 8px; z-index: 102; color: black; font-size: 80%; width: auto; white-space: nowrap}\n#MathJax_MSIE_Frame {position: absolute; top: 0; left: 0; width: 0px; z-index: 101; border: 0px; margin: 0px; padding: 0px}\n.MathJax_Error {color: #CC0000; font-style: italic}\n</style><style xmlns=\"http://www.w3.org/1999/xhtml\" type=\"text/css\">.MJXp-script {font-size: .8em}\n.MJXp-right {-webkit-transform-origin: right; -moz-transform-origin: right; -ms-transform-origin: right; -o-transform-origin: right; transform-origin: right}\n.MJXp-bold {font-weight: bold}\n.MJXp-italic {font-style: italic}\n.MJXp-scr {font-family: MathJax_Script,'Times New Roman',Times,STIXGeneral,serif}\n.MJXp-frak {font-family: MathJax_Fraktur,'Times New Roman',Times,STIXGeneral,serif}\n.MJXp-sf {font-family: MathJax_SansSerif,'Times New Roman',Times,STIXGeneral,serif}\n.MJXp-cal {font-family: MathJax_Caligraphic,'Times New Roman',Times,STIXGeneral,serif}\n.MJXp-mono {font-family: MathJax_Typewriter,'Times New Roman',Times,STIXGeneral,serif}\n.MJXp-largeop {font-size: 150%}\n.MJXp-largeop.MJXp-int {vertical-align: -.2em}\n.MJXp-math {display: inline-block; line-height: 1.2; text-indent: 0; font-family: 'Times New Roman',Times,STIXGeneral,serif; white-space: nowrap; border-collapse: collapse}\n.MJXp-display {display: block; text-align: center; margin: 1em 0}\n.MJXp-math span {display: inline-block}\n.MJXp-box {display: block!important; text-align: center}\n.MJXp-box:after {content: \" \"}\n.MJXp-rule {display: block!important; margin-top: .1em}\n.MJXp-char {display: block!important}\n.MJXp-mo {margin: 0 .15em}\n.MJXp-mfrac {margin: 0 .125em; vertical-align: .25em}\n.MJXp-denom {display: inline-table!important; width: 100%}\n.MJXp-denom &gt; * {display: table-row!important}\n.MJXp-surd {vertical-align: top}\n.MJXp-surd &gt; * {display: block!important}\n.MJXp-script-box &gt; *  {display: table!important; height: 50%}\n.MJXp-script-box &gt; * &gt; * {display: table-cell!important; vertical-align: top}\n.MJXp-script-box &gt; *:last-child &gt; * {vertical-align: bottom}\n.MJXp-script-box &gt; * &gt; * &gt; * {display: block!important}\n.MJXp-mphantom {visibility: hidden}\n.MJXp-munderover, .MJXp-munder {display: inline-table!important}\n.MJXp-over {display: inline-block!important; text-align: center}\n.MJXp-over &gt; * {display: block!important}\n.MJXp-munderover &gt; *, .MJXp-munder &gt; * {display: table-row!important}\n.MJXp-mtable {vertical-align: .25em; margin: 0 .125em}\n.MJXp-mtable &gt; * {display: inline-table!important; vertical-align: middle}\n.MJXp-mtr {display: table-row!important}\n.MJXp-mtd {display: table-cell!important; text-align: center; padding: .5em 0 0 .5em}\n.MJXp-mtr &gt; .MJXp-mtd:first-child {padding-left: 0}\n.MJXp-mtr:first-child &gt; .MJXp-mtd {padding-top: 0}\n.MJXp-mlabeledtr {display: table-row!important}\n.MJXp-mlabeledtr &gt; .MJXp-mtd:first-child {padding-left: 0}\n.MJXp-mlabeledtr:first-child &gt; .MJXp-mtd {padding-top: 0}\n.MJXp-merror {background-color: #FFFF88; color: #CC0000; border: 1px solid #CC0000; padding: 1px 3px; font-style: normal; font-size: 90%}\n.MJXp-scale0 {-webkit-transform: scaleX(.0); -moz-transform: scaleX(.0); -ms-transform: scaleX(.0); -o-transform: scaleX(.0); transform: scaleX(.0)}\n.MJXp-scale1 {-webkit-transform: scaleX(.1); -moz-transform: scaleX(.1); -ms-transform: scaleX(.1); -o-transform: scaleX(.1); transform: scaleX(.1)}\n.MJXp-scale2 {-webkit-transform: scaleX(.2); -moz-transform: scaleX(.2); -ms-transform: scaleX(.2); -o-transform: scaleX(.2); transform: scaleX(.2)}\n.MJXp-scale3 {-webkit-transform: scaleX(.3); -moz-transform: scaleX(.3); -ms-transform: scaleX(.3); -o-transform: scaleX(.3); transform: scaleX(.3)}\n.MJXp-scale4 {-webkit-transform: scaleX(.4); -moz-transform: scaleX(.4); -ms-transform: scaleX(.4); -o-transform: scaleX(.4); transform: scaleX(.4)}\n.MJXp-scale5 {-webkit-transform: scaleX(.5); -moz-transform: scaleX(.5); -ms-transform: scaleX(.5); -o-transform: scaleX(.5); transform: scaleX(.5)}\n.MJXp-scale6 {-webkit-transform: scaleX(.6); -moz-transform: scaleX(.6); -ms-transform: scaleX(.6); -o-transform: scaleX(.6); transform: scaleX(.6)}\n.MJXp-scale7 {-webkit-transform: scaleX(.7); -moz-transform: scaleX(.7); -ms-transform: scaleX(.7); -o-transform: scaleX(.7); transform: scaleX(.7)}\n.MJXp-scale8 {-webkit-transform: scaleX(.8); -moz-transform: scaleX(.8); -ms-transform: scaleX(.8); -o-transform: scaleX(.8); transform: scaleX(.8)}\n.MJXp-scale9 {-webkit-transform: scaleX(.9); -moz-transform: scaleX(.9); -ms-transform: scaleX(.9); -o-transform: scaleX(.9); transform: scaleX(.9)}\n.MathJax_PHTML .noError {vertical-align: ; font-size: 90%; text-align: left; color: black; padding: 1px 3px; border: 1px solid}\n</style><style xmlns=\"http://www.w3.org/1999/xhtml\" type=\"text/css\">.MathJax_SVG_Display {text-align: center; margin: 1em 0em; position: relative; display: block!important; text-indent: 0; max-width: none; max-height: none; min-width: 0; min-height: 0; width: 100%}\n.MathJax_SVG .MJX-monospace {font-family: monospace}\n.MathJax_SVG .MJX-sans-serif {font-family: sans-serif}\n#MathJax_SVG_Tooltip {background-color: InfoBackground; color: InfoText; border: 1px solid black; box-shadow: 2px 2px 5px #AAAAAA; -webkit-box-shadow: 2px 2px 5px #AAAAAA; -moz-box-shadow: 2px 2px 5px #AAAAAA; -khtml-box-shadow: 2px 2px 5px #AAAAAA; padding: 3px 4px; z-index: 401; position: absolute; left: 0; top: 0; width: auto; height: auto; display: none}\n.MathJax_SVG {display: inline; font-style: normal; font-weight: normal; line-height: normal; font-size: 100%; font-size-adjust: none; text-indent: 0; text-align: left; text-transform: none; letter-spacing: normal; word-spacing: normal; word-wrap: normal; white-space: nowrap; float: none; direction: ltr; max-width: none; max-height: none; min-width: 0; min-height: 0; border: 0; padding: 0; margin: 0}\n.MathJax_SVG * {transition: none; -webkit-transition: none; -moz-transition: none; -ms-transition: none; -o-transition: none}\n.MathJax_SVG &gt; div {display: inline-block}\n.mjx-svg-href {fill: blue; stroke: blue}\n.MathJax_SVG_Processing {visibility: hidden; position: absolute; top: 0; left: 0; width: 0; height: 0; overflow: hidden; display: block!important}\n.MathJax_SVG_Processed {display: none!important}\n.MathJax_SVG_test {font-style: normal; font-weight: normal; font-size: 100%; font-size-adjust: none; text-indent: 0; text-transform: none; letter-spacing: normal; word-spacing: normal; overflow: hidden; height: 1px}\n.MathJax_SVG_test.mjx-test-display {display: table!important}\n.MathJax_SVG_test.mjx-test-inline {display: inline!important; margin-right: -1px}\n.MathJax_SVG_test.mjx-test-default {display: block!important; clear: both}\n.MathJax_SVG_ex_box {display: inline-block!important; position: absolute; overflow: hidden; min-height: 0; max-height: none; padding: 0; border: 0; margin: 0; width: 1px; height: 60ex}\n.mjx-test-inline .MathJax_SVG_left_box {display: inline-block; width: 0; float: left}\n.mjx-test-inline .MathJax_SVG_right_box {display: inline-block; width: 0; float: right}\n.mjx-test-display .MathJax_SVG_right_box {display: table-cell!important; width: 10000em!important; min-width: 0; max-width: none; padding: 0; border: 0; margin: 0}\n.MathJax_SVG .noError {vertical-align: ; font-size: 90%; text-align: left; color: black; padding: 1px 3px; border: 1px solid}\n</style></defs><g><path d=\"M 10 23 L 10 0 L 610 0 L 610 23\" fill=\"rgb(255, 255, 255)\" stroke=\"rgb(0, 0, 0)\" stroke-miterlimit=\"10\" pointer-events=\"all\"/><path d=\"M 10 23 L 10 620 L 610 620 L 610 23\" fill=\"none\" stroke=\"rgb(0, 0, 0)\" stroke-miterlimit=\"10\" pointer-events=\"none\"/><path d=\"M 10 23 L 610 23\" fill=\"none\" stroke=\"rgb(0, 0, 0)\" stroke-miterlimit=\"10\" pointer-events=\"none\"/><g fill=\"rgb(0, 0, 0)\" font-family=\"Helvetica\" font-weight=\"bold\" pointer-events=\"none\" text-anchor=\"middle\" font-size=\"12px\"><text x=\"309.5\" y=\"16\">EnhancedIndexingStrategy</text></g><path d=\"M 10 73 L 10 50 L 600 50 L 600 73\" fill=\"rgb(255, 255, 255)\" stroke=\"rgb(0, 0, 0)\" stroke-miterlimit=\"10\" pointer-events=\"none\"/><path d=\"M 10 73 L 10 250 L 600 250 L 600 73\" fill=\"none\" stroke=\"rgb(0, 0, 0)\" stroke-miterlimit=\"10\" pointer-events=\"none\"/><path d=\"M 10 73 L 600 73\" fill=\"none\" stroke=\"rgb(0, 0, 0)\" stroke-miterlimit=\"10\" pointer-events=\"none\"/><g fill=\"rgb(0, 0, 0)\" font-family=\"Helvetica\" font-weight=\"bold\" pointer-events=\"none\" text-anchor=\"middle\" font-size=\"12px\"><text x=\"304.5\" y=\"66\">EnhancedIndexingOptimizer</text></g><g transform=\"translate(-0.5 -0.5)\"><switch><foreignObject pointer-events=\"none\" width=\"100%\" height=\"100%\" requiredFeatures=\"http://www.w3.org/TR/SVG11/feature#Extensibility\" style=\"overflow: visible; text-align: left;\"><div xmlns=\"http://www.w3.org/1999/xhtml\" style=\"display: flex; align-items: unsafe center; justify-content: unsafe center; width: 1px; height: 1px; padding-top: 90px; margin-left: 105px;\"><div data-drawio-colors=\"color: rgb(0, 0, 0); \" style=\"box-sizing: border-box; font-size: 0px; text-align: center;\"><div style=\"display: inline-block; font-size: 12px; font-family: Helvetica; color: rgb(0, 0, 0); line-height: 1.2; pointer-events: none; white-space: nowrap;\">Solving Optimization Problem:</div></div></div></foreignObject><text x=\"105\" y=\"94\" fill=\"rgb(0, 0, 0)\" font-family=\"Helvetica\" font-size=\"12px\" text-anchor=\"middle\">Solving Optimization Problem:</text></switch></g><g transform=\"translate(-0.5 -0.5)\"><switch><foreignObject pointer-events=\"none\" width=\"100%\" height=\"100%\" requiredFeatures=\"http://www.w3.org/TR/SVG11/feature#Extensibility\" style=\"overflow: visible; text-align: left;\"><div xmlns=\"http://www.w3.org/1999/xhtml\" style=\"display: flex; align-items: unsafe center; justify-content: unsafe center; width: 1px; height: 1px; padding-top: 140px; margin-left: 135px;\"><div data-drawio-colors=\"color: rgb(0, 0, 0); \" style=\"box-sizing: border-box; font-size: 0px; text-align: center;\"><div style=\"display: inline-block; font-size: 12px; font-family: Helvetica; color: rgb(0, 0, 0); line-height: 1.2; pointer-events: none; white-space: nowrap;\">$$ s.t. w &gt;= 0 $$</div></div></div></foreignObject><text x=\"135\" y=\"144\" fill=\"rgb(0, 0, 0)\" font-family=\"Helvetica\" font-size=\"12px\" text-anchor=\"middle\">$$ s.t. w &gt;= 0 $$</text></switch></g><g transform=\"translate(-0.5 -0.5)\"><switch><foreignObject pointer-events=\"none\" width=\"100%\" height=\"100%\" requiredFeatures=\"http://www.w3.org/TR/SVG11/feature#Extensibility\" style=\"overflow: visible; text-align: left;\"><div xmlns=\"http://www.w3.org/1999/xhtml\" style=\"display: flex; align-items: unsafe center; justify-content: unsafe center; width: 1px; height: 1px; padding-top: 160px; margin-left: 170px;\"><div data-drawio-colors=\"color: rgb(0, 0, 0); \" style=\"box-sizing: border-box; font-size: 0px; text-align: center;\"><div style=\"display: inline-block; font-size: 12px; font-family: Helvetica; color: rgb(0, 0, 0); line-height: 1.2; pointer-events: none; white-space: nowrap;\">$$ sum(w) == 1 $$</div></div></div></foreignObject><text x=\"170\" y=\"164\" fill=\"rgb(0, 0, 0)\" font-family=\"Helvetica\" font-size=\"12px\" text-anchor=\"middle\">$$ sum(w) == 1 $$</text></switch></g><g transform=\"translate(-0.5 -0.5)\"><switch><foreignObject pointer-events=\"none\" width=\"100%\" height=\"100%\" requiredFeatures=\"http://www.w3.org/TR/SVG11/feature#Extensibility\" style=\"overflow: visible; text-align: left;\"><div xmlns=\"http://www.w3.org/1999/xhtml\" style=\"display: flex; align-items: unsafe center; justify-content: unsafe center; width: 1px; height: 1px; padding-top: 180px; margin-left: 190px;\"><div data-drawio-colors=\"color: rgb(0, 0, 0); \" style=\"box-sizing: border-box; font-size: 0px; text-align: center;\"><div style=\"display: inline-block; font-size: 12px; font-family: Helvetica; color: rgb(0, 0, 0); line-height: 1.2; pointer-events: none; white-space: nowrap;\">$$ sum(|w - w_0|) &lt;= \\delta $$</div></div></div></foreignObject><text x=\"190\" y=\"184\" fill=\"rgb(0, 0, 0)\" font-family=\"Helvetica\" font-size=\"12px\" text-anchor=\"middle\">$$ sum(|w - w_0|) &lt;= \\delta $$</text></switch></g><g transform=\"translate(-0.5 -0.5)\"><switch><foreignObject pointer-events=\"none\" width=\"100%\" height=\"100%\" requiredFeatures=\"http://www.w3.org/TR/SVG11/feature#Extensibility\" style=\"overflow: visible; text-align: left;\"><div xmlns=\"http://www.w3.org/1999/xhtml\" style=\"display: flex; align-items: unsafe center; justify-content: unsafe center; width: 1px; height: 1px; padding-top: 200px; margin-left: 160px;\"><div data-drawio-colors=\"color: rgb(0, 0, 0); \" style=\"box-sizing: border-box; font-size: 0px; text-align: center;\"><div style=\"display: inline-block; font-size: 12px; font-family: Helvetica; color: rgb(0, 0, 0); line-height: 1.2; pointer-events: none; white-space: nowrap;\">$$ |d| &gt;= b_{dev} $$</div></div></div></foreignObject><text x=\"160\" y=\"204\" fill=\"rgb(0, 0, 0)\" font-family=\"Helvetica\" font-size=\"12px\" text-anchor=\"middle\">$$ |d| &gt;= b_{dev} $$</text></switch></g><g transform=\"translate(-0.5 -0.5)\"><switch><foreignObject pointer-events=\"none\" width=\"100%\" height=\"100%\" requiredFeatures=\"http://www.w3.org/TR/SVG11/feature#Extensibility\" style=\"overflow: visible; text-align: left;\"><div xmlns=\"http://www.w3.org/1999/xhtml\" style=\"display: flex; align-items: unsafe center; justify-content: unsafe center; width: 1px; height: 1px; padding-top: 220px; margin-left: 165px;\"><div data-drawio-colors=\"color: rgb(0, 0, 0); \" style=\"box-sizing: border-box; font-size: 0px; text-align: center;\"><div style=\"display: inline-block; font-size: 12px; font-family: Helvetica; color: rgb(0, 0, 0); line-height: 1.2; pointer-events: none; white-space: nowrap;\">$$ |v| &gt;= f_dev$$</div></div></div></foreignObject><text x=\"165\" y=\"224\" fill=\"rgb(0, 0, 0)\" font-family=\"Helvetica\" font-size=\"12px\" text-anchor=\"middle\">$$ |v| &gt;= f_dev$$</text></switch></g><g transform=\"translate(-0.5 -0.5)\"><switch><foreignObject pointer-events=\"none\" width=\"100%\" height=\"100%\" requiredFeatures=\"http://www.w3.org/TR/SVG11/feature#Extensibility\" style=\"overflow: visible; text-align: left;\"><div xmlns=\"http://www.w3.org/1999/xhtml\" style=\"display: flex; align-items: unsafe center; justify-content: unsafe center; width: 1px; height: 1px; padding-top: 120px; margin-left: 220px;\"><div data-drawio-colors=\"color: rgb(0, 0, 0); \" style=\"box-sizing: border-box; font-size: 0px; text-align: center;\"><div style=\"display: inline-block; font-size: 12px; font-family: Helvetica; color: rgb(0, 0, 0); line-height: 1.2; pointer-events: none; white-space: nowrap;\">$$ max_w d \\cdot r - \\lambda \\times (v \\cdot cov_b \\cdot v + var_u \\cdot d^2) $$</div></div></div></foreignObject><text x=\"220\" y=\"124\" fill=\"rgb(0, 0, 0)\" font-family=\"Helvetica\" font-size=\"12px\" text-anchor=\"middle\">$$ max_w d \\cdot r - \\lambda \\times (v \\cdot cov_b \\cdot v + var_u \\cdot...</text></switch></g><g transform=\"translate(-0.5 -0.5)\"><switch><foreignObject pointer-events=\"none\" width=\"100%\" height=\"100%\" requiredFeatures=\"http://www.w3.org/TR/SVG11/feature#Extensibility\" style=\"overflow: visible; text-align: left;\"><div xmlns=\"http://www.w3.org/1999/xhtml\" style=\"display: flex; align-items: unsafe center; justify-content: unsafe center; width: 1px; height: 1px; padding-top: 220px; margin-left: 405px;\"><div data-drawio-colors=\"color: rgb(0, 0, 0); \" style=\"box-sizing: border-box; font-size: 0px; text-align: center;\"><div style=\"display: inline-block; font-size: 12px; font-family: Helvetica; color: rgb(0, 0, 0); line-height: 1.2; pointer-events: none; white-space: nowrap;\">NOTE: `d` is benchmark deviation, `r` is expected return, `w` is portfolio <br />weight and `v` is factor deviation, `w_0` is benchmark weight</div></div></div></foreignObject><text x=\"405\" y=\"224\" fill=\"rgb(0, 0, 0)\" font-family=\"Helvetica\" font-size=\"12px\" text-anchor=\"middle\">NOTE: `d` is benchmark deviation, `r` is expected return, `w` is...</text></switch></g><path d=\"M 330 435 L 443 435 Q 453 435 452.97 425 L 452.52 256.37\" fill=\"none\" stroke=\"rgb(0, 0, 0)\" stroke-miterlimit=\"10\" pointer-events=\"none\"/><path d=\"M 452.5 251.12 L 456.02 258.11 L 452.52 256.37 L 449.02 258.13 Z\" fill=\"rgb(0, 0, 0)\" stroke=\"rgb(0, 0, 0)\" stroke-miterlimit=\"10\" pointer-events=\"none\"/><g transform=\"translate(-0.5 -0.5)\"><switch><foreignObject pointer-events=\"none\" width=\"100%\" height=\"100%\" requiredFeatures=\"http://www.w3.org/TR/SVG11/feature#Extensibility\" style=\"overflow: visible; text-align: left;\"><div xmlns=\"http://www.w3.org/1999/xhtml\" style=\"display: flex; align-items: unsafe center; justify-content: unsafe center; width: 1px; height: 1px; padding-top: 387px; margin-left: 453px;\"><div data-drawio-colors=\"color: rgb(0, 0, 0); background-color: rgb(255, 255, 255); \" style=\"box-sizing: border-box; font-size: 0px; text-align: center;\"><div style=\"display: inline-block; font-size: 18px; font-family: Helvetica; color: rgb(0, 0, 0); line-height: 1.2; pointer-events: none; background-color: rgb(255, 255, 255); white-space: nowrap;\">self.optimizer</div></div></div></foreignObject><text x=\"453\" y=\"392\" fill=\"rgb(0, 0, 0)\" font-family=\"Helvetica\" font-size=\"18px\" text-anchor=\"middle\">self.optimizer</text></switch></g><rect x=\"10\" y=\"260\" width=\"320\" height=\"350\" fill=\"rgb(255, 255, 255)\" stroke=\"rgb(0, 0, 0)\" pointer-events=\"none\"/><g transform=\"translate(-0.5 -0.5)\"><switch><foreignObject pointer-events=\"none\" width=\"100%\" height=\"100%\" requiredFeatures=\"http://www.w3.org/TR/SVG11/feature#Extensibility\" style=\"overflow: visible; text-align: left;\"><div xmlns=\"http://www.w3.org/1999/xhtml\" style=\"display: flex; align-items: unsafe center; justify-content: unsafe flex-start; width: 318px; height: 1px; padding-top: 436px; margin-left: 12px;\"><div data-drawio-colors=\"color: rgb(0, 0, 0); \" style=\"box-sizing: border-box; font-size: 0px; text-align: left;\"><div style=\"display: inline-block; font-size: 12px; font-family: Helvetica; color: rgb(0, 0, 0); line-height: 1.2; pointer-events: none; white-space: normal; overflow-wrap: normal;\"><b><font style=\"font-size: 18px\">generate_target_weight_position</font></b>:<br />1. get the risk data on the last day(risk data can be created by &lt;qlib.model.riskmodel.structured.StructuredCovEstimator&gt;<br />2. use the latest score<br />3. get the current weight<br />4. get bench weight (mind here D.instrument is used, so the strategy is not fully decoupled)<br />5. delete the blacklist<br />6. calculate the best weight using self.optimizer (EnhancedIndexingOptimizer)<br />7. submit the orders</div></div></div></foreignObject><text x=\"12\" y=\"440\" fill=\"rgb(0, 0, 0)\" font-family=\"Helvetica\" font-size=\"12px\">generate_target_weight_position:...</text></switch></g></g><switch><g requiredFeatures=\"http://www.w3.org/TR/SVG11/feature#Extensibility\"/><a transform=\"translate(0,-5)\" xlink:href=\"https://www.diagrams.net/doc/faq/svg-export-text-problems\" target=\"_blank\"><text text-anchor=\"middle\" font-size=\"10px\" x=\"50%\" y=\"100%\">Viewer does not support full SVG 1.1</text></a></switch></svg>"
     },
     "metadata": {},
     "output_type": "display_data"
    }
   ],
   "source": [
    "from IPython.display import display_svg\n",
    "display_svg(open('../images/enhanced_indexing.svg', 'r'), raw=True)"
   ]
  },
  {
   "cell_type": "code",
   "execution_count": null,
   "metadata": {},
   "outputs": [],
   "source": []
  }
 ],
 "metadata": {
  "kernelspec": {
   "display_name": "Python 3.8.13 ('qlib')",
   "language": "python",
   "name": "python3"
  },
  "language_info": {
   "codemirror_mode": {
    "name": "ipython",
    "version": 3
   },
   "file_extension": ".py",
   "mimetype": "text/x-python",
   "name": "python",
   "nbconvert_exporter": "python",
   "pygments_lexer": "ipython3",
   "version": "3.8.13"
  },
  "orig_nbformat": 4,
  "vscode": {
   "interpreter": {
    "hash": "b061070c2a4f0a17beb221bbb485cf11738fa39836b1ba79e3ea50588350e39e"
   }
  }
 },
 "nbformat": 4,
 "nbformat_minor": 2
}
