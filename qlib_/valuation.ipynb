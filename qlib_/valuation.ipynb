{
 "cells": [
  {
   "cell_type": "markdown",
   "metadata": {},
   "source": [
    "# Valuation for Qlib Training"
   ]
  },
  {
   "cell_type": "code",
   "execution_count": null,
   "metadata": {},
   "outputs": [],
   "source": [
    "import os\n",
    "import numpy as np\n",
    "import pandas as pd\n",
    "from pathlib import Path"
   ]
  },
  {
   "cell_type": "markdown",
   "metadata": {},
   "source": [
    "## Load Results\n",
    "\n",
    "We first read all the results that qlib training genereted"
   ]
  },
  {
   "cell_type": "code",
   "execution_count": null,
   "metadata": {},
   "outputs": [],
   "source": [
    "exp_name = 'onlypred_test/oos'\n",
    "\n",
    "# read result\n",
    "path = Path(f'../data/intermediate/results/{exp_name}')\n",
    "pred = pd.read_parquet(path)\n",
    "pred = pred.loc[~pred.index.duplicated(keep='last')]\n",
    "\n",
    "# read return data and benchmark data\n",
    "ret = pd.read_parquet('../data/intermediate/forward_return/1d_open_open.parquet')\n",
    "benchmark = pd.read_parquet('../data/index/zz500.parquet', columns=['ret'])\n",
    "benchmark = benchmark.loc[pred.index.levels[0]]\n",
    "\n",
    "# calculate the top layer return\n",
    "select = pred.groupby(level=0)['score'].apply(lambda x: x.sort_values(ascending=False).iloc[:int(len(x) // 10)]).droplevel(0).index\n",
    "top_ret = ret.loc[select]\n",
    "\n",
    "# initialize weights\n",
    "weights = pd.Series(np.ones_like(select), index=select).groupby(level=0).apply(lambda x: x / x.sum())\n",
    "\n",
    "# calculate the turnover by weights\n",
    "turnover = (weights.unstack().fillna(0).shift(1) - weights.unstack().fillna(0)).fillna(0).stack()\n",
    "turnover = turnover[turnover > 0].groupby(level=0).sum()\n",
    "buy_turnover = turnover[turnover >= 0].groupby(level=0).sum()\n",
    "buy_turnover.iloc[0] = 1"
   ]
  },
  {
   "cell_type": "markdown",
   "metadata": {},
   "source": [
    "## Cumulative Return"
   ]
  },
  {
   "cell_type": "code",
   "execution_count": null,
   "metadata": {},
   "outputs": [],
   "source": [
    "profit = top_ret.groupby(level=0)['label'].apply(lambda x: \n",
    "    (x * weights.loc[x.index]).sum() / weights.loc[x.index].sum()).shift(2).fillna(0)\n",
    "profit = profit - 0.001 * buy_turnover\n",
    "profit = pd.concat([profit, benchmark], axis=1)\n",
    "profit.columns = ['profit', 'benchmark']\n",
    "profit['excess'] = profit['profit'] - profit['benchmark']\n",
    "(1 + profit).cumprod().plot();"
   ]
  },
  {
   "cell_type": "markdown",
   "metadata": {},
   "source": [
    "## Max Drawdown"
   ]
  },
  {
   "cell_type": "code",
   "execution_count": null,
   "metadata": {},
   "outputs": [],
   "source": [
    "mmd = (((1 + profit).cumprod() - (1 + profit).cumprod().cummax()) / (1 + profit).cumprod().cummax())\n",
    "mmd.plot();"
   ]
  },
  {
   "cell_type": "markdown",
   "metadata": {},
   "source": [
    "## Turnover"
   ]
  },
  {
   "cell_type": "code",
   "execution_count": null,
   "metadata": {},
   "outputs": [],
   "source": [
    "buy_turnover.plot();"
   ]
  },
  {
   "cell_type": "markdown",
   "metadata": {},
   "source": [
    "## IC"
   ]
  },
  {
   "cell_type": "code",
   "execution_count": null,
   "metadata": {},
   "outputs": [],
   "source": [
    "pred_label = pd.concat([pred, ret], axis=1, join='inner')"
   ]
  },
  {
   "cell_type": "code",
   "execution_count": null,
   "metadata": {},
   "outputs": [],
   "source": [
    "ic = pred_label.groupby(level=0).corr(method='spearman').loc[(slice(None), \"label\"), \"score\"].droplevel(1)\n",
    "ic.rolling(10).mean().plot(title='ic rolling 10-day mean');"
   ]
  }
 ],
 "metadata": {
  "kernelspec": {
   "display_name": "Python 3.8.13 ('qlib')",
   "language": "python",
   "name": "python3"
  },
  "language_info": {
   "codemirror_mode": {
    "name": "ipython",
    "version": 3
   },
   "file_extension": ".py",
   "mimetype": "text/x-python",
   "name": "python",
   "nbconvert_exporter": "python",
   "pygments_lexer": "ipython3",
   "version": "3.8.13"
  },
  "orig_nbformat": 4,
  "vscode": {
   "interpreter": {
    "hash": "b061070c2a4f0a17beb221bbb485cf11738fa39836b1ba79e3ea50588350e39e"
   }
  }
 },
 "nbformat": 4,
 "nbformat_minor": 2
}
