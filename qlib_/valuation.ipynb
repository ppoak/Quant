{
 "cells": [
  {
   "cell_type": "markdown",
   "metadata": {},
   "source": [
    "# Valuation for Qlib Training"
   ]
  },
  {
   "cell_type": "code",
   "execution_count": null,
   "metadata": {},
   "outputs": [],
   "source": [
    "import os\n",
    "import pandas as pd\n",
    "from pathlib import Path"
   ]
  },
  {
   "cell_type": "code",
   "execution_count": null,
   "metadata": {},
   "outputs": [],
   "source": [
    "def rebalance():\n",
    "    ...\n",
    "def compute_ic():\n",
    "    ..."
   ]
  },
  {
   "cell_type": "code",
   "execution_count": null,
   "metadata": {},
   "outputs": [],
   "source": [
    "%run ../factor/libs/performance.py"
   ]
  },
  {
   "cell_type": "markdown",
   "metadata": {},
   "source": [
    "## Load Results\n",
    "\n",
    "We first read all the results that qlib training genereted"
   ]
  },
  {
   "cell_type": "code",
   "execution_count": null,
   "metadata": {},
   "outputs": [],
   "source": [
    "exp_name = 'lgbm'\n",
    "pickle_path = Path(f'../data/intermediate/results/{exp_name}')\n",
    "files = os.listdir(pickle_path)\n",
    "files = sorted(list(filter(lambda x: x.startswith('pred_label'), files)))\n",
    "pred_label = []\n",
    "for f in files:\n",
    "    pred_label.append(pd.read_pickle(pickle_path.joinpath(f)))\n",
    "pred_label = pd.concat(pred_label)\n",
    "pred_label = pred_label.loc[~pred_label.index.duplicated(keep='last')]\n",
    "benchmark = pd.read_parquet('../data/index/index_kline_daily.parquet')\n",
    "benchmark = benchmark.loc[(pred_label.index.levels[0], '000982.XSHG'), \"close\"].droplevel(1)\n",
    "benchmark = benchmark.pct_change().fillna(0)"
   ]
  },
  {
   "cell_type": "markdown",
   "metadata": {},
   "source": [
    "## Plot the IC"
   ]
  },
  {
   "cell_type": "code",
   "execution_count": null,
   "metadata": {},
   "outputs": [],
   "source": [
    "ic_res = compute_ic(pred_label)"
   ]
  },
  {
   "cell_type": "markdown",
   "metadata": {},
   "source": [
    "## Plot the Rebalance Result"
   ]
  },
  {
   "cell_type": "code",
   "execution_count": null,
   "metadata": {},
   "outputs": [],
   "source": [
    "n = 5\n",
    "balance_res = rebalance(pred_label, benchmark, commission_ratio=0, N=n)"
   ]
  }
 ],
 "metadata": {
  "kernelspec": {
   "display_name": "Python 3.8.13 ('qlib')",
   "language": "python",
   "name": "python3"
  },
  "language_info": {
   "codemirror_mode": {
    "name": "ipython",
    "version": 3
   },
   "file_extension": ".py",
   "mimetype": "text/x-python",
   "name": "python",
   "nbconvert_exporter": "python",
   "pygments_lexer": "ipython3",
   "version": "3.8.13"
  },
  "orig_nbformat": 4,
  "vscode": {
   "interpreter": {
    "hash": "b061070c2a4f0a17beb221bbb485cf11738fa39836b1ba79e3ea50588350e39e"
   }
  }
 },
 "nbformat": 4,
 "nbformat_minor": 2
}
