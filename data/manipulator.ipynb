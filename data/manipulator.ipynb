{
 "cells": [
  {
   "cell_type": "markdown",
   "metadata": {},
   "source": [
    "# Data Manipulator\n",
    "\n",
    "Used to manipulate data and store them as intermediate result."
   ]
  },
  {
   "cell_type": "markdown",
   "metadata": {},
   "source": [
    "## Forward Return\n",
    "\n",
    "Caculate the forward return as label for latter use"
   ]
  },
  {
   "cell_type": "markdown",
   "metadata": {},
   "source": [
    "### Close to Close Return\n",
    "\n",
    "This type of return is not robust, and may serverely effect the model performance, use with caution"
   ]
  },
  {
   "cell_type": "code",
   "execution_count": null,
   "metadata": {},
   "outputs": [],
   "source": [
    "import pandas as pd\n",
    "\n",
    "data = pd.read_parquet('./kline_daily/', columns=['close', 'adjfactor'])\n",
    "close = data['close'] * data['adjfactor']\n",
    "ret = (close.groupby(level=1).shift(-2) / close.groupby(level=1).shift(-1) - 1).dropna()\n",
    "ret = ret.loc[~ret.index.duplicated(keep='first')]\n",
    "nret = ret.groupby(level=0).apply(lambda x: (x - x.mean()) / x.std())\n",
    "ret.to_frame(name='label').to_parquet('./intermediate/forward_return_1d_close_close.parquet')\n",
    "nret.to_frame(name='label').to_parquet('./intermediate/forward_return_1d_close_close_normalized.parquet')"
   ]
  },
  {
   "cell_type": "markdown",
   "metadata": {},
   "source": [
    "### VWAP Return\n",
    "\n",
    "This type of return is more plausible, and more like the true market environment"
   ]
  },
  {
   "cell_type": "code",
   "execution_count": 1,
   "metadata": {},
   "outputs": [],
   "source": [
    "import pandas as pd\n",
    "\n",
    "data = pd.read_parquet('./derivative_indicators/vwap.parquet')\n",
    "vret = data.groupby(level=1).shift(-2) / data.groupby(level=1).shift(-1) - 1\n",
    "vret = vret.dropna()\n",
    "vret.to_parquet('../data/intermediate/forward_return/1d_vwap_vwap.parquet')\n",
    "nvret = vret.groupby(level=0).apply(lambda x: (x - x.mean()) / x.std())\n",
    "nvret.to_parquet('../data/intermediate/forward_return/1d_vwap_vwap_normalized.parquet')"
   ]
  }
 ],
 "metadata": {
  "kernelspec": {
   "display_name": "Python 3.8.13 ('qlib')",
   "language": "python",
   "name": "python3"
  },
  "language_info": {
   "codemirror_mode": {
    "name": "ipython",
    "version": 3
   },
   "file_extension": ".py",
   "mimetype": "text/x-python",
   "name": "python",
   "nbconvert_exporter": "python",
   "pygments_lexer": "ipython3",
   "version": "3.8.13"
  },
  "orig_nbformat": 4,
  "vscode": {
   "interpreter": {
    "hash": "b061070c2a4f0a17beb221bbb485cf11738fa39836b1ba79e3ea50588350e39e"
   }
  }
 },
 "nbformat": 4,
 "nbformat_minor": 2
}
