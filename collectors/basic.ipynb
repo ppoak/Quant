{
 "cells": [
  {
   "cell_type": "markdown",
   "metadata": {},
   "source": [
    "# Stock Trade Information"
   ]
  },
  {
   "cell_type": "code",
   "execution_count": 22,
   "metadata": {},
   "outputs": [],
   "source": [
    "import sys\n",
    "import importlib\n",
    "import numpy as np\n",
    "import pandas as pd\n",
    "import akshare as ak\n",
    "from joblib import Parallel, delayed\n",
    "from libs import AkShare, format_code"
   ]
  },
  {
   "cell_type": "markdown",
   "metadata": {},
   "source": [
    "## Get the stock trade for the day"
   ]
  },
  {
   "cell_type": "code",
   "execution_count": 3,
   "metadata": {},
   "outputs": [],
   "source": [
    "# benchmark: 25min\n",
    "start = '20050101'\n",
    "codes = list(map(format_code, AkShare.stock_quote(code_only=True)))\n",
    "stock_data = Parallel(n_jobs=-1, backend='threading')(delayed(AkShare.market_daily)(code, start=start) for code in codes)\n",
    "data = pd.concat(stock_data, axis=0, keys=codes, names=['instrument', 'datetime'], sort=True)\n",
    "data = data.swaplevel().sort_index()\n",
    "data.to_parquet('../data/raw_data/em_daily_stock/daily_stock.parquet', compression='gzip')"
   ]
  },
  {
   "cell_type": "markdown",
   "metadata": {},
   "source": [
    "After fetching data and store in `data` variable in memory, we need to dump it into the disk"
   ]
  },
  {
   "cell_type": "markdown",
   "metadata": {},
   "source": [
    "## Stock Financial Report Collector"
   ]
  },
  {
   "cell_type": "code",
   "execution_count": null,
   "metadata": {},
   "outputs": [],
   "source": [
    "def get_balance_sheet(code):\n",
    "    \"\"\"Only returns numerical balance_sheet_data\"\"\"\n",
    "    try:\n",
    "        data = ak.stock_balance_sheet_by_report_em(symbol=code)\n",
    "        if data.empty:\n",
    "            return None\n",
    "        data = data.loc[:, data.columns[data.astype('f8', \n",
    "            errors='ignore').dtypes != 'object'].union(['SECUCODE', 'REPORT_DATE', 'NOTICE_DATE'])]\n",
    "        data = data.replace({None: np.nan})\n",
    "        data = data.astype('f8', errors='ignore')\n",
    "        data[['REPORT_DATE', 'NOTICE_DATE']] = data[['REPORT_DATE', 'NOTICE_DATE']].astype('datetime64[ns]')\n",
    "        data = data.set_index('REPORT_DATE')\n",
    "        data = data.reindex(pd.date_range(data.index.min(), data.index.max(), freq='q'))\n",
    "        data.index.name = \"REPORT_DATE\"\n",
    "        data = data.reset_index()\n",
    "        data['SECUCODE'] = data['SECUCODE'][~data['SECUCODE'].isna()].iloc[0]\n",
    "        return data\n",
    "    except:\n",
    "        return None"
   ]
  },
  {
   "cell_type": "code",
   "execution_count": null,
   "metadata": {},
   "outputs": [],
   "source": [
    "codes = ak.stock_zh_a_spot_em()['代码'].to_list()\n",
    "joblibres = Parallel(n_jobs=8)(delayed(get_balance_sheet)(code) for code in codes)"
   ]
  }
 ],
 "metadata": {
  "kernelspec": {
   "display_name": "Python 3.8.13 ('qlib')",
   "language": "python",
   "name": "python3"
  },
  "language_info": {
   "codemirror_mode": {
    "name": "ipython",
    "version": 3
   },
   "file_extension": ".py",
   "mimetype": "text/x-python",
   "name": "python",
   "nbconvert_exporter": "python",
   "pygments_lexer": "ipython3",
   "version": "3.8.13"
  },
  "orig_nbformat": 4,
  "vscode": {
   "interpreter": {
    "hash": "b061070c2a4f0a17beb221bbb485cf11738fa39836b1ba79e3ea50588350e39e"
   }
  }
 },
 "nbformat": 4,
 "nbformat_minor": 2
}
