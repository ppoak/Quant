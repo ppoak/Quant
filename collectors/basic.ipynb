{
 "cells": [
  {
   "cell_type": "markdown",
   "metadata": {},
   "source": [
    "# Stock Trade Information"
   ]
  },
  {
   "cell_type": "code",
   "execution_count": null,
   "metadata": {},
   "outputs": [],
   "source": [
    "import sys\n",
    "import importlib\n",
    "import numpy as np\n",
    "import pandas as pd\n",
    "import akshare as ak\n",
    "from functools import partial\n",
    "from joblib import Parallel, delayed\n",
    "from libs import AkShare, format_code"
   ]
  },
  {
   "cell_type": "markdown",
   "metadata": {},
   "source": [
    "## Get the stock trade daily"
   ]
  },
  {
   "cell_type": "code",
   "execution_count": null,
   "metadata": {},
   "outputs": [],
   "source": [
    "# benchmark: 25min\n",
    "start = '20050101'\n",
    "codes = list(map(format_code, AkShare.stock_quote(code_only=True)))\n",
    "stock_data = Parallel(n_jobs=-1, backend='threading')(delayed(AkShare.market_daily)(code, start=start) for code in codes)\n",
    "data = pd.concat(stock_data, axis=0, keys=codes, names=['instrument', 'datetime'], sort=True)\n",
    "data = data.swaplevel().sort_index()\n",
    "data.to_parquet('../data/raw_data/em_daily_stock/daily_stock.parquet', compression='gzip')"
   ]
  },
  {
   "cell_type": "markdown",
   "metadata": {},
   "source": [
    "After fetching data and store in `data` variable in memory, we need to dump it into the disk"
   ]
  },
  {
   "cell_type": "markdown",
   "metadata": {},
   "source": [
    "## Stock Financial Report Collector"
   ]
  },
  {
   "cell_type": "code",
   "execution_count": null,
   "metadata": {},
   "outputs": [],
   "source": [
    "# benchmark: 23m+\n",
    "format_code_partial = partial(format_code, format_str=\"{market}{code}\")\n",
    "codes = list(map(format_code_partial, ak.stock_zh_a_spot_em()['代码'].to_list()))\n",
    "# comment the `akshare/stock_feature/stock_three_report_em.py:56` tqdm part\n",
    "joblibres = Parallel(n_jobs=12, backend='loky')(delayed(AkShare.balance_sheet)(code) for code in codes)\n",
    "data = pd.concat(joblibres)\n",
    "data = data.sort_index()\n",
    "data.to_parquet('../data/financials/balance_sheet.parquet', compression='gzip')"
   ]
  },
  {
   "cell_type": "code",
   "execution_count": null,
   "metadata": {},
   "outputs": [],
   "source": [
    "# benchmark: 18m+\n",
    "format_code_partial = partial(format_code, format_str=\"{market}{code}\")\n",
    "codes = list(map(format_code_partial, ak.stock_zh_a_spot_em()['代码'].to_list()))\n",
    "# comment the `akshare/stock_feature/stock_three_report_em.py:56` tqdm part\n",
    "joblibres = Parallel(n_jobs=12, backend='loky')(delayed(AkShare.profit_sheet)(code) for code in codes)\n",
    "data = pd.concat(joblibres)\n",
    "data = data.sort_index()\n",
    "data.to_parquet('../data/financials/profit_sheet.parquet', compression='gzip')"
   ]
  },
  {
   "cell_type": "code",
   "execution_count": null,
   "metadata": {},
   "outputs": [],
   "source": [
    "# benchmark: 18m+\n",
    "format_code_partial = partial(format_code, format_str=\"{market}{code}\")\n",
    "codes = list(map(format_code_partial, ak.stock_zh_a_spot_em()['代码'].to_list()))\n",
    "# comment the `akshare/stock_feature/stock_three_report_em.py:56` tqdm part\n",
    "joblibres = Parallel(n_jobs=12, backend='loky')(delayed(AkShare.cashflow_sheet)(code) for code in codes)\n",
    "data = pd.concat(joblibres)\n",
    "data = data.sort_index()\n",
    "data.to_parquet('../data/financials/cashflow_sheet.parquet', compression='gzip')"
   ]
  },
  {
   "cell_type": "code",
   "execution_count": null,
   "metadata": {},
   "outputs": [],
   "source": []
  }
 ],
 "metadata": {
  "kernelspec": {
   "display_name": "Python 3.8.13 ('qlib')",
   "language": "python",
   "name": "python3"
  },
  "language_info": {
   "codemirror_mode": {
    "name": "ipython",
    "version": 3
   },
   "file_extension": ".py",
   "mimetype": "text/x-python",
   "name": "python",
   "nbconvert_exporter": "python",
   "pygments_lexer": "ipython3",
   "version": "3.8.13"
  },
  "orig_nbformat": 4,
  "vscode": {
   "interpreter": {
    "hash": "b061070c2a4f0a17beb221bbb485cf11738fa39836b1ba79e3ea50588350e39e"
   }
  }
 },
 "nbformat": 4,
 "nbformat_minor": 2
}
