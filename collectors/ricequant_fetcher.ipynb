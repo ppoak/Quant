{
 "cells": [
  {
   "cell_type": "code",
   "execution_count": null,
   "metadata": {},
   "outputs": [],
   "source": [
    "import gc\n",
    "import subprocess\n",
    "import pandas as pd\n",
    "import numpy as np\n",
    "import datetime\n",
    "from tqdm import tqdm"
   ]
  },
  {
   "cell_type": "code",
   "execution_count": null,
   "metadata": {},
   "outputs": [],
   "source": [
    "today = datetime.datetime.today()\n",
    "start = '20150101'\n",
    "end = '20230101'\n",
    "all_stock = all_instruments(type='CS', market='cn')\n",
    "all_stock = all_stock.order_book_id.to_list()\n",
    "comprehesive_index = ['000300.XSHG', '000001.XSHG', '000016.XSHG']\n",
    "citics_index = [f'CI005{str(i).zfill(3)}.INDX' for i in range(1, 31)]\n",
    "trade_dates = get_trading_dates(start_date='20100101', end_date=today + datetime.timedelta(days=10000))\n",
    "trade_dates = pd.DataFrame(pd.to_datetime(trade_dates), columns=['trade_date'])"
   ]
  },
  {
   "cell_type": "markdown",
   "metadata": {},
   "source": [
    "## Index Weights"
   ]
  },
  {
   "cell_type": "code",
   "execution_count": null,
   "metadata": {},
   "outputs": [],
   "source": [
    "weights = []\n",
    "comprehesive_index = ['000016.XSHG', '000001.XSHG', '000300.XSHG']\n",
    "for index in tqdm(comprehesive_index):\n",
    "    w = index_weights(index, start_date=start, end_date=end)\n",
    "    w.index = pd.MultiIndex.from_arrays([w.index.get_level_values(0), \n",
    "        [index] * len(w), w.index.get_level_values(1)],\n",
    "        names=['date', 'index_id', 'order_book_id'])\n",
    "    weights.append(w)\n",
    "weights = pd.concat(weights)\n",
    "weights"
   ]
  },
  {
   "cell_type": "code",
   "execution_count": null,
   "metadata": {},
   "outputs": [],
   "source": [
    "weights.to_parquet('index-weights.parquet')"
   ]
  },
  {
   "cell_type": "markdown",
   "metadata": {},
   "source": [
    "## All Instruments Infomation"
   ]
  },
  {
   "cell_type": "code",
   "execution_count": null,
   "metadata": {},
   "outputs": [],
   "source": [
    "instruments = all_instruments()\n",
    "instruments.listed_date = pd.to_datetime(instruments.listed_date, errors='coerce')\n",
    "instruments.de_listed_date = pd.to_datetime(instruments.de_listed_date, errors='coerce')\n",
    "instruments = instruments.set_index('order_book_id')"
   ]
  },
  {
   "cell_type": "code",
   "execution_count": null,
   "metadata": {},
   "outputs": [],
   "source": [
    "instruments.to_parquet('instruments.par')"
   ]
  },
  {
   "cell_type": "markdown",
   "metadata": {},
   "source": [
    "## Minute Data"
   ]
  },
  {
   "cell_type": "code",
   "execution_count": null,
   "metadata": {
    "scrolled": false
   },
   "outputs": [],
   "source": [
    "ms = pd.date_range(start, end, freq='MS')\n",
    "me = pd.date_range(start, end, freq='M')\n",
    "for i, (s, e) in tqdm(enumerate(zip(ms, me))):\n",
    "    price_data = get_price(order_book_ids=all_stock, start_date=s, \n",
    "              end_date=e, frequency='1m', adjust_type='none').drop('num_trades', axis=1)\n",
    "    price_data['adjfactor'] =  get_price(order_book_ids=all_stock, start_date=s, \n",
    "              end_date=e, frequency='1m', fields='close', adjust_type='post')['close'] / price_data['close']\n",
    "    price_data = price_data.astype('float32')\n",
    "    price_data.to_parquet(f'{s.strftime(\"%Y%m\")}.parquet')\n",
    "    del price_data\n",
    "    gc.collect()\n",
    "    if (i + 1) % 12 == 0:\n",
    "        subprocess.run(['tar', '-cvzf', f'{e.year}.tar.gz'] + [f'{e.year}{str(mon).zfill(2)}.parquet' for mon in range(1, 13)])\n",
    "        subprocess.run(['rm', '-rf'] + [f'{e.year}{str(mon).zfill(2)}.parquet' for mon in range(1, 13)])"
   ]
  },
  {
   "cell_type": "markdown",
   "metadata": {},
   "source": [
    "## Market Daily"
   ]
  },
  {
   "cell_type": "code",
   "execution_count": null,
   "metadata": {},
   "outputs": [],
   "source": [
    "ms = pd.date_range(start, (end), freq='MS')\n",
    "me = pd.date_range(start, end, freq='M')\n",
    "for s, e in tqdm(list(zip(ms, me))):\n",
    "    prices = get_price(order_book_ids=all_stock, start_date=s, end_date=e, fields=None, adjust_type='none')\n",
    "    post_prices = get_price(order_book_ids=all_stock, start_date=s, end_date=e, fields='close', adjust_type='post')\n",
    "    prices['adjfactor'] = post_prices['close'] / prices['close']\n",
    "    prices = prices.swaplevel().sort_index().rename(columns={\"total_turnover\": \"amount\"})\n",
    "    prices['pct_change'] = prices['close'] / prices['prev_close'] - 1\n",
    "    prices = prices.astype('float32').astype({\"num_trades\": \"uint16\"})\n",
    "    prices.to_parquet(f'{s.strftime(\"%Y%m\")}.parquet', compression='gzip')"
   ]
  },
  {
   "cell_type": "markdown",
   "metadata": {},
   "source": [
    "## Index Market Daily"
   ]
  },
  {
   "cell_type": "code",
   "execution_count": null,
   "metadata": {},
   "outputs": [],
   "source": [
    "index_price = get_price(order_book_ids=citics_index + comprehesive_index, start_date=get_previous_trading_date(start), end_date=end)\n",
    "index_price = index_price.swaplevel()\n",
    "index_price = index_price.sort_index()\n",
    "index_price['pct_change'] = index_price['close'].groupby(level=1).pct_change() * 100\n",
    "index_price['pct_amount'] = index_price['close'].groupby(level=1).diff()\n",
    "index_price = index_price[start:]"
   ]
  },
  {
   "cell_type": "code",
   "execution_count": null,
   "metadata": {},
   "outputs": [],
   "source": [
    "index_price.to_parquet('index-market-daily.parquet')"
   ]
  },
  {
   "cell_type": "markdown",
   "metadata": {},
   "source": [
    "## Industry Information"
   ]
  },
  {
   "cell_type": "code",
   "execution_count": null,
   "metadata": {},
   "outputs": [],
   "source": [
    "industry_mapping = []\n",
    "for date in tqdm(trade_dates[(trade_dates.trade_date >= start) & (trade_dates.trade_date <= end)].trade_date):\n",
    "    mapping = get_instrument_industry(order_book_ids=all_stock, date=date, source='citics_2019', level=0)\n",
    "    mapping.index = pd.MultiIndex.from_arrays([[date] * len(mapping), mapping.index], names=['date', mapping.index.name])\n",
    "    mapping['source'] = 'citics'\n",
    "    industry_mapping.append(mapping)\n",
    "industry_mapping = pd.concat(industry_mapping)\n",
    "industry_mapping"
   ]
  },
  {
   "cell_type": "code",
   "execution_count": null,
   "metadata": {},
   "outputs": [],
   "source": [
    "industry_mapping.to_parquet('plate_info.par')"
   ]
  },
  {
   "cell_type": "markdown",
   "metadata": {},
   "source": [
    "## Derivative Indicator"
   ]
  },
  {
   "cell_type": "code",
   "execution_count": null,
   "metadata": {},
   "outputs": [],
   "source": [
    "turnover = []\n",
    "for stock in tqdm(all_stock):\n",
    "    turnover.append(get_turnover_rate(stock, start, end, fields=['today', 'week', 'month', 'year']))\n",
    "turnover = pd.concat(turnover, axis=0)"
   ]
  },
  {
   "cell_type": "code",
   "execution_count": null,
   "metadata": {},
   "outputs": [],
   "source": [
    "turnover = turnover.swaplevel().sort_index()\n",
    "turnover = turnover.astype('float32')\n",
    "turnover.to_parquet('turnover.parquet')"
   ]
  },
  {
   "cell_type": "code",
   "execution_count": null,
   "metadata": {},
   "outputs": [],
   "source": [
    "turnover = get_turnover_rate(all_stock, start, end, fields='today')\n",
    "turnover = turnover.swaplevel()\n",
    "turnover = turnover.sort_index()\n",
    "turnover.columns = ['turnover']"
   ]
  },
  {
   "cell_type": "code",
   "execution_count": null,
   "metadata": {
    "scrolled": true
   },
   "outputs": [],
   "source": [
    "factors = ['pb_ratio_ttm', 'market_cap_2']\n",
    "factor = get_factor(order_book_ids=all_stock, factor=factors, start_date=start, end_date=end)\n",
    "factor = factor.swaplevel()\n",
    "factor = factor.sort_index()\n",
    "factor = pd.concat([factor, turnover], axis=1)\n",
    "factor.index.names = ['date', 'order_book_id']\n",
    "factor"
   ]
  },
  {
   "cell_type": "markdown",
   "metadata": {},
   "source": [
    "## HS Connect Information"
   ]
  },
  {
   "cell_type": "code",
   "execution_count": null,
   "metadata": {},
   "outputs": [],
   "source": [
    "hsg_holding = get_stock_connect(all_stock, start_date='20100101', end_date='20220810')\n",
    "hsg_holding = hsg_holding.astype('float32')\n",
    "hsg_holding.to_parquet('hsg_holding.parquet')"
   ]
  },
  {
   "cell_type": "markdown",
   "metadata": {},
   "source": [
    "## PIT Data"
   ]
  },
  {
   "cell_type": "code",
   "execution_count": null,
   "metadata": {},
   "outputs": [],
   "source": [
    "data = get_factor(order_book_ids=all_stock, factor=[\"policy_dividend_payout\"], start_date=start, end_date=end)\n",
    "sig = data.squeeze().unstack(level=0).diff()\n",
    "sig = sig.fillna(0).astype('bool')\n",
    "dered = data.squeeze().unstack(level=0).mask(~sig, np.nan)\n",
    "dered = dered.stack()\n",
    "t = dered.loc[:,\"002423.XSHE\"].index"
   ]
  },
  {
   "cell_type": "markdown",
   "metadata": {},
   "source": [
    "## Transform Data into Local Form"
   ]
  },
  {
   "cell_type": "code",
   "execution_count": 6,
   "metadata": {},
   "outputs": [],
   "source": [
    "import sys\n",
    "import importlib\n",
    "import pandas as pd\n",
    "from pathlib import Path\n",
    "from joblib import Parallel, delayed\n",
    "\n",
    "sys.path.append('..')\n",
    "oxygene = importlib.import_module('oxygene')"
   ]
  },
  {
   "cell_type": "code",
   "execution_count": 7,
   "metadata": {},
   "outputs": [],
   "source": [
    "def transform(path, inst_col=1, date_col=0, uri='../asset/kline_daily'):\n",
    "    oxygene.Transformer(\n",
    "        data = pd.read_parquet(path),\n",
    "        inst_col = inst_col,\n",
    "        date_col = date_col,\n",
    "        uri = uri,\n",
    "    ).transform()"
   ]
  },
  {
   "cell_type": "code",
   "execution_count": null,
   "metadata": {},
   "outputs": [],
   "source": [
    "data_dir = Path('../asset/backups/kline_min/')\n",
    "Parallel(n_jobs=-1, backend='threading')(\n",
    "    delayed(transform)(p) for p in data_dir.iterdir());"
   ]
  },
  {
   "cell_type": "code",
   "execution_count": null,
   "metadata": {},
   "outputs": [],
   "source": []
  }
 ],
 "metadata": {
  "kernelspec": {
   "display_name": "Python 3.8.13 ('qlib')",
   "language": "python",
   "name": "python3"
  },
  "language_info": {
   "codemirror_mode": {
    "name": "ipython",
    "version": 3
   },
   "file_extension": ".py",
   "mimetype": "text/x-python",
   "name": "python",
   "nbconvert_exporter": "python",
   "pygments_lexer": "ipython3",
   "version": "3.8.13"
  },
  "vscode": {
   "interpreter": {
    "hash": "b061070c2a4f0a17beb221bbb485cf11738fa39836b1ba79e3ea50588350e39e"
   }
  }
 },
 "nbformat": 4,
 "nbformat_minor": 4
}
