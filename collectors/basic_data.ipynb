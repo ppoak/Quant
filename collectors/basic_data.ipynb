{
 "cells": [
  {
   "cell_type": "markdown",
   "metadata": {},
   "source": [
    "# Stock Trade Information"
   ]
  },
  {
   "cell_type": "code",
   "execution_count": 22,
   "metadata": {},
   "outputs": [],
   "source": [
    "import sys\n",
    "import importlib\n",
    "import pandas as pd\n",
    "\n",
    "sys.path.append('..')\n",
    "oxygene = importlib.import_module('oxygene')\n",
    "tools = importlib.import_module('tools')\n",
    "\n",
    "from joblib import Parallel, delayed"
   ]
  },
  {
   "cell_type": "markdown",
   "metadata": {},
   "source": [
    "## Get the stock trade for the day"
   ]
  },
  {
   "cell_type": "code",
   "execution_count": 3,
   "metadata": {},
   "outputs": [],
   "source": [
    "# benchmark: 25min\n",
    "start = '20050101'\n",
    "codes = list(map(tools.format_code, oxygene.AkShare.stock_quote(code_only=True)))\n",
    "stock_data = Parallel(n_jobs=-1, backend='threading')(delayed(oxygene.AkShare.market_daily)(code, start=start) for code in codes)\n",
    "data = pd.concat(stock_data, axis=0, keys=codes, names=['instrument', 'datetime'], sort=True)\n",
    "data = data.swaplevel().sort_index()\n",
    "data.to_parquet('../data/raw_data/em_daily_stock/daily_stock.parquet', compression='gzip')"
   ]
  },
  {
   "cell_type": "markdown",
   "metadata": {},
   "source": [
    "After fetching data and store in `data` variable in memory, we need to dump it into the disk"
   ]
  },
  {
   "cell_type": "code",
   "execution_count": 24,
   "metadata": {},
   "outputs": [],
   "source": [
    "# benchmark: 44s\n",
    "oxygene.Dumper(\n",
    "    data = data,\n",
    "    date_col = None,\n",
    "    inst_col = None,\n",
    "    uri = '../data/em_qlib_day',\n",
    "    mode = 'w',\n",
    "    freq = 'day',\n",
    ").dump()"
   ]
  }
 ],
 "metadata": {
  "kernelspec": {
   "display_name": "Python 3.8.13 ('qlib')",
   "language": "python",
   "name": "python3"
  },
  "language_info": {
   "codemirror_mode": {
    "name": "ipython",
    "version": 3
   },
   "file_extension": ".py",
   "mimetype": "text/x-python",
   "name": "python",
   "nbconvert_exporter": "python",
   "pygments_lexer": "ipython3",
   "version": "3.8.13"
  },
  "orig_nbformat": 4,
  "vscode": {
   "interpreter": {
    "hash": "b061070c2a4f0a17beb221bbb485cf11738fa39836b1ba79e3ea50588350e39e"
   }
  }
 },
 "nbformat": 4,
 "nbformat_minor": 2
}
