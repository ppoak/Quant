{
 "cells": [
  {
   "cell_type": "markdown",
   "metadata": {},
   "source": [
    "# Eastmoney Collector"
   ]
  },
  {
   "cell_type": "markdown",
   "metadata": {},
   "source": [
    "## Stock Emotion Collector for Guba"
   ]
  },
  {
   "cell_type": "code",
   "execution_count": 1,
   "metadata": {
    "execution": {
     "iopub.execute_input": "2022-08-12T01:09:27.396341Z",
     "iopub.status.busy": "2022-08-12T01:09:27.396206Z",
     "iopub.status.idle": "2022-08-12T01:09:28.164438Z",
     "shell.execute_reply": "2022-08-12T01:09:28.164149Z"
    }
   },
   "outputs": [],
   "source": [
    "import re\n",
    "import time\n",
    "import random\n",
    "import hashlib\n",
    "import datetime\n",
    "import requests\n",
    "import pandas as pd\n",
    "import akshare as ak\n",
    "from tqdm import tqdm\n",
    "from lxml import etree\n",
    "from functools import wraps\n",
    "from joblib import Parallel, delayed, Memory"
   ]
  },
  {
   "cell_type": "markdown",
   "metadata": {},
   "source": [
    "### Some Utility Functions"
   ]
  },
  {
   "cell_type": "code",
   "execution_count": 2,
   "metadata": {},
   "outputs": [],
   "source": [
    "def format_code(code, format_str='{market}.{code}'):\n",
    "    \"\"\"Format stock code with ``format_str``\n",
    "    \n",
    "    code: str, the code to be formatted\n",
    "    format_str: str, the format to be transformed\n",
    "    return: str, the formated code string\n",
    "    \"\"\"\n",
    "\n",
    "def get_proxy(page_size=20):\n",
    "    \"\"\"Get proxy data on https://free.kuaidaili.com\n",
    "    \n",
    "    page_sze: int, the number of pages to collect\n",
    "    \n",
    "    return: list[dict]: the proxy list\n",
    "    \"\"\"\n",
    "\n",
    "def proxy_request(\n",
    "    url: str, \n",
    "    proxies: 'dict | list', \n",
    "    retry: int = None, \n",
    "    timeout: int = 1,\n",
    "    delay: int = 0,\n",
    "    verbose: bool = True,\n",
    "    **kwargs\n",
    "):\n",
    "    \"\"\"Start a request using proxies, keep retrying until success\n",
    "    \n",
    "    url: str, the target url link,\n",
    "    proxies: list or dict, the proxies to use\n",
    "    retry: int, maximum time to try, default to the length of the proxies list\n",
    "    timeout: int, time limit for every try\n",
    "    delay: int, how long to wait after failure\n",
    "    verbose: bool, whether to show detail information\n",
    "    **kwargs: the keyword arguments passed to ``request.get``\n",
    "    return: the response\n",
    "    \"\"\"\n",
    "\n",
    "def get_stock_code():\n",
    "    \"\"\"Get all available stock code in current market\"\"\""
   ]
  },
  {
   "cell_type": "code",
   "execution_count": 3,
   "metadata": {
    "execution": {
     "iopub.execute_input": "2022-08-12T01:09:28.166128Z",
     "iopub.status.busy": "2022-08-12T01:09:28.166070Z",
     "iopub.status.idle": "2022-08-12T01:09:28.176146Z",
     "shell.execute_reply": "2022-08-12T01:09:28.175847Z"
    }
   },
   "outputs": [],
   "source": [
    "%run ../mylib/utils.py"
   ]
  },
  {
   "cell_type": "code",
   "execution_count": 4,
   "metadata": {
    "execution": {
     "iopub.execute_input": "2022-08-12T01:09:28.177557Z",
     "iopub.status.busy": "2022-08-12T01:09:28.177481Z",
     "iopub.status.idle": "2022-08-12T01:09:28.179182Z",
     "shell.execute_reply": "2022-08-12T01:09:28.178975Z"
    }
   },
   "outputs": [],
   "source": [
    "today = datetime.datetime.today().date()"
   ]
  },
  {
   "cell_type": "markdown",
   "metadata": {},
   "source": [
    "Use the utility function `get_proxy` to get some proxies for later use."
   ]
  },
  {
   "cell_type": "code",
   "execution_count": 5,
   "metadata": {
    "execution": {
     "iopub.execute_input": "2022-08-12T01:09:28.180416Z",
     "iopub.status.busy": "2022-08-12T01:09:28.180343Z",
     "iopub.status.idle": "2022-08-12T01:09:28.181947Z",
     "shell.execute_reply": "2022-08-12T01:09:28.181753Z"
    }
   },
   "outputs": [
    {
     "name": "stdout",
     "output_type": "stream",
     "text": [
      "________________________________________________________________________________\n",
      "[Memory] Calling __main__--Users-oak-Desktop-Quant-mylib-utils.get_proxy...\n",
      "get_proxy()\n",
      "[+] https://free.kuaidaili.com/free/inha/1/ Get Success!\n",
      "[+] https://free.kuaidaili.com/free/inha/2/ Get Success!\n",
      "[+] https://free.kuaidaili.com/free/inha/3/ Get Success!\n",
      "[+] https://free.kuaidaili.com/free/inha/4/ Get Success!\n",
      "[+] https://free.kuaidaili.com/free/inha/5/ Get Success!\n",
      "[+] https://free.kuaidaili.com/free/inha/6/ Get Success!\n",
      "[+] https://free.kuaidaili.com/free/inha/7/ Get Success!\n",
      "[+] https://free.kuaidaili.com/free/inha/8/ Get Success!\n",
      "[+] https://free.kuaidaili.com/free/inha/9/ Get Success!\n",
      "[+] https://free.kuaidaili.com/free/inha/10/ Get Success!\n",
      "[+] https://free.kuaidaili.com/free/inha/11/ Get Success!\n",
      "[+] https://free.kuaidaili.com/free/inha/12/ Get Success!\n",
      "[+] https://free.kuaidaili.com/free/inha/13/ Get Success!\n",
      "[+] https://free.kuaidaili.com/free/inha/14/ Get Success!\n",
      "[+] https://free.kuaidaili.com/free/inha/15/ Get Success!\n",
      "[+] https://free.kuaidaili.com/free/inha/16/ Get Success!\n",
      "[+] https://free.kuaidaili.com/free/inha/17/ Get Success!\n",
      "[+] https://free.kuaidaili.com/free/inha/18/ Get Success!\n",
      "[+] https://free.kuaidaili.com/free/inha/19/ Get Success!\n",
      "[+] https://free.kuaidaili.com/free/inha/20/ Get Success!\n",
      "[=] Get 209 proxies, while 209 are available. Current available rate is 100.00%\n",
      "_______________________________________________________get_proxy - 41.1s, 0.7min\n"
     ]
    }
   ],
   "source": [
    "mem = Memory('/tmp/joblib_test/')\n",
    "proxies = mem.cache(get_proxy)()"
   ]
  },
  {
   "cell_type": "markdown",
   "metadata": {},
   "source": [
    "### Crawl for the Web"
   ]
  },
  {
   "cell_type": "markdown",
   "metadata": {},
   "source": [
    "This part is dedicated to crawl the up or down possibility provided by investers"
   ]
  },
  {
   "cell_type": "code",
   "execution_count": 6,
   "metadata": {
    "execution": {
     "iopub.execute_input": "2022-08-12T01:09:28.183335Z",
     "iopub.status.busy": "2022-08-12T01:09:28.183263Z",
     "iopub.status.idle": "2022-08-12T01:09:28.185550Z",
     "shell.execute_reply": "2022-08-12T01:09:28.185369Z"
    }
   },
   "outputs": [],
   "source": [
    "def crawl_stock(code: str):\n",
    "    today = datetime.datetime.today().date()\n",
    "    headers = {\n",
    "        \"User-Agent\": \"Mozilla/5.0 (Macintosh; Intel Mac OS X 10_15_7) AppleWebKit/605.1.15 (KHTML, like Gecko) Version/15.6 Safari/605.1.15\",\n",
    "        \"Referer\": \"http://guba.eastmoney.com/\",\n",
    "        \"Host\": \"gubacdn.dfcfw.com\"\n",
    "    }\n",
    "    code = format_code(code, '{market}{code}')\n",
    "    url = f\"http://gubacdn.dfcfw.com/LookUpAndDown/{code}.js\"\n",
    "    res = requests.get(url, headers=headers)\n",
    "    res.raise_for_status()\n",
    "    res = eval(res.text.strip('var LookUpAndDown=').replace('null', f'\"{today}\"'))\n",
    "    data = pd.Series(res['Data'])\n",
    "    data['code'] = code\n",
    "    return data"
   ]
  },
  {
   "cell_type": "code",
   "execution_count": 12,
   "metadata": {
    "execution": {
     "iopub.execute_input": "2022-08-12T01:09:28.186787Z",
     "iopub.status.busy": "2022-08-12T01:09:28.186728Z",
     "iopub.status.idle": "2022-08-12T01:10:07.674568Z",
     "shell.execute_reply": "2022-08-12T01:10:07.674267Z"
    }
   },
   "outputs": [],
   "source": [
    "codes = ak.stock_zh_a_spot_em()['代码'].to_list()\n",
    "datas = Parallel(n_jobs=8)(delayed(crawl_stock)(code) for code in codes)\n",
    "data = pd.concat(datas, axis=1).T\n",
    "data.Date = pd.to_datetime(data.Date)\n",
    "data = data.set_index('code')\n",
    "data = data.astype({\"TapeZ\": \"float32\", \"TapeD\": \"float32\", \"TapeType\": \"uint8\", \"Date\": \"datetime64[ns]\"})\n",
    "data.to_parquet(f'../data/derivative_indicators/guba_votes/{today}.parquet')"
   ]
  },
  {
   "cell_type": "markdown",
   "metadata": {},
   "source": [
    "### Crawl the Comments"
   ]
  },
  {
   "cell_type": "code",
   "execution_count": 13,
   "metadata": {
    "execution": {
     "iopub.execute_input": "2022-08-12T01:10:07.676303Z",
     "iopub.status.busy": "2022-08-12T01:10:07.676216Z",
     "iopub.status.idle": "2022-08-12T01:10:07.680092Z",
     "shell.execute_reply": "2022-08-12T01:10:07.679877Z"
    }
   },
   "outputs": [],
   "source": [
    "def overview(code: str, page: int, try_times: int = 100):\n",
    "    tries = 0\n",
    "    while tries <= try_times:\n",
    "        page = str(page)\n",
    "        url = f\"http://guba.eastmoney.com/list,{code},f_{page}.html\"\n",
    "        html = etree.HTML(proxy_request(url, proxies=proxies, verbose=False).text)\n",
    "        read = html.xpath('//*[@id=\"articlelistnew\"]/div[not(@class=\"dheader\")]/span[1]/text()')\n",
    "        comments = html.xpath('//*[@id=\"articlelistnew\"]/div[not(@class=\"dheader\")]/span[2]/text()')\n",
    "        title = html.xpath('//*[@id=\"articlelistnew\"]/div[not(@class=\"dheader\")]/span[3]/a/text()')\n",
    "        href = html.xpath('//*[@id=\"articlelistnew\"]/div[not(@class=\"dheader\")]/span[3]/a/@href')\n",
    "        author = html.xpath('//*[@id=\"articlelistnew\"]/div[not(@class=\"dheader\")]/span[4]/a/font/text()')\n",
    "        time = html.xpath('//*[@id=\"articlelistnew\"]/div[not(@class=\"dheader\")]/span[5]/text()')\n",
    "        # we might still got unaligned data because the anti-crawl system\n",
    "        try:\n",
    "            data = pd.DataFrame({\"read\": read, \"comments\": comments, \"title\": title, \"href\": href, \"author\": author, \"datetime\": time})\n",
    "            return data\n",
    "        except:\n",
    "            tries += 1\n",
    "            print(f\"try time {tries} for page {page} aligned failed, that's probably because the proxy ip is banned.\")"
   ]
  },
  {
   "cell_type": "code",
   "execution_count": 15,
   "metadata": {
    "execution": {
     "iopub.execute_input": "2022-08-12T01:10:07.681397Z",
     "iopub.status.busy": "2022-08-12T01:10:07.681321Z",
     "iopub.status.idle": "2022-08-12T01:12:44.936284Z",
     "shell.execute_reply": "2022-08-12T01:12:44.935788Z"
    }
   },
   "outputs": [
    {
     "name": "stdout",
     "output_type": "stream",
     "text": [
      "try time 1 for page 137 aligned failed, that's probably because the proxy ip is banned.\n"
     ]
    }
   ],
   "source": [
    "results = []\n",
    "end_page = 500\n",
    "results = Parallel(n_jobs=8)(delayed(overview)('zssh000001', i) for i in range(1, end_page + 1))"
   ]
  },
  {
   "cell_type": "code",
   "execution_count": 29,
   "metadata": {},
   "outputs": [],
   "source": [
    "today = datetime.datetime.today()\n",
    "year = today.year\n",
    "month = today.month\n",
    "for res in results:\n",
    "    res['datetime'] = res['datetime'].map(lambda x: (str(year) if int(x[:2]) <= month else str(year - 1)) + '-' + x)\n",
    "    res['datetime'] = pd.to_datetime(res['datetime'])\n",
    "    if (res['datetime'] < str(year)).any():\n",
    "        year -= 1\n",
    "result = pd.concat(results, axis=0)\n",
    "result = result.astype({\"read\": \"uint16\", \"comments\": \"uint16\"})\n",
    "result[['read', 'comments']] = result[['read', 'comments']].replace({'万': '0000', '\\.': ''}, regex=True).astype('uint16')\n",
    "result.to_parquet(f'../data/derivative_indicators/guba_comments/{today.date}.parquet')"
   ]
  },
  {
   "cell_type": "markdown",
   "metadata": {},
   "source": [
    "## Stock Financial Report Collector"
   ]
  },
  {
   "cell_type": "code",
   "execution_count": null,
   "metadata": {},
   "outputs": [],
   "source": [
    "def get_balance_sheet(code):\n",
    "    \"\"\"Only returns numerical balance_sheet_data\"\"\"\n",
    "    try:\n",
    "        data = ak.stock_balance_sheet_by_report_em(symbol=code)\n",
    "        if data.empty:\n",
    "            return None\n",
    "        data = data.loc[:, data.columns[data.astype('f8', \n",
    "            errors='ignore').dtypes != 'object'].union(['SECUCODE', 'REPORT_DATE', 'NOTICE_DATE'])]\n",
    "        data = data.replace({None: np.nan})\n",
    "        data = data.astype('f8', errors='ignore')\n",
    "        data[['REPORT_DATE', 'NOTICE_DATE']] = data[['REPORT_DATE', 'NOTICE_DATE']].astype('datetime64[ns]')\n",
    "        data = data.set_index('REPORT_DATE')\n",
    "        data = data.reindex(pd.date_range(data.index.min(), data.index.max(), freq='q'))\n",
    "        data.index.name = \"REPORT_DATE\"\n",
    "        data = data.reset_index()\n",
    "        data['SECUCODE'] = data['SECUCODE'][~data['SECUCODE'].isna()].iloc[0]\n",
    "        return data\n",
    "    except:\n",
    "        return None"
   ]
  },
  {
   "cell_type": "code",
   "execution_count": 361,
   "metadata": {},
   "outputs": [
    {
     "name": "stderr",
     "output_type": "stream",
     "text": [
      "                                               \r"
     ]
    }
   ],
   "source": [
    "codes = get_stock_code()\n",
    "joblibres = Parallel(n_jobs=8)(delayed(get_balance_sheet)(code) for code in codes)"
   ]
  }
 ],
 "metadata": {
  "kernelspec": {
   "display_name": "Python 3.8.13 ('qlib')",
   "language": "python",
   "name": "python3"
  },
  "language_info": {
   "codemirror_mode": {
    "name": "ipython",
    "version": 3
   },
   "file_extension": ".py",
   "mimetype": "text/x-python",
   "name": "python",
   "nbconvert_exporter": "python",
   "pygments_lexer": "ipython3",
   "version": "3.8.13"
  },
  "vscode": {
   "interpreter": {
    "hash": "b061070c2a4f0a17beb221bbb485cf11738fa39836b1ba79e3ea50588350e39e"
   }
  }
 },
 "nbformat": 4,
 "nbformat_minor": 2
}
